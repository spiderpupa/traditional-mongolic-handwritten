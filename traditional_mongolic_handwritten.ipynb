{
  "cells": [
    {
      "cell_type": "markdown",
      "metadata": {
        "id": "view-in-github",
        "colab_type": "text"
      },
      "source": [
        "<a href=\"https://colab.research.google.com/github/spiderpupa/traditional-mongolic-handwritten/blob/main/traditional_mongolic_handwritten.ipynb\" target=\"_parent\"><img src=\"https://colab.research.google.com/assets/colab-badge.svg\" alt=\"Open In Colab\"/></a>"
      ]
    },
    {
      "cell_type": "markdown",
      "metadata": {
        "id": "Sr6BzzRBv05D"
      },
      "source": [
        "kaggle에서 공유된 데이터셋은 .mat 확장자로 되어있으나, 해당 확장자를 다루는 데에는 전용 프로그램이 필요하고 이를 다뤄본 적이 없어 부득이 다른 형태로 전환할 필요가 있다. 또한 10만 개의 데이터셋을 한꺼번에 불러와 다룰 경우 메모리 초과가 일어날 가능성이 높아 우선 이를 이미지 파일로 분할하여 저장한 후, 데이터 학습 과정에서 따로따로 불러오는 형태로 진행한다."
      ]
    },
    {
      "cell_type": "code",
      "source": [
        "from google.colab import drive\n",
        "drive.mount('/content/drive')"
      ],
      "metadata": {
        "id": "LxDnIfB0v93I",
        "colab": {
          "base_uri": "https://localhost:8080/"
        },
        "outputId": "1fa3b44d-a08b-4404-9f75-cab10c73fabc"
      },
      "execution_count": 1,
      "outputs": [
        {
          "output_type": "stream",
          "name": "stdout",
          "text": [
            "Mounted at /content/drive\n"
          ]
        }
      ]
    },
    {
      "cell_type": "markdown",
      "metadata": {
        "id": "hioBoRbJv05F"
      },
      "source": [
        "# 데이터 분할 저장"
      ]
    },
    {
      "cell_type": "markdown",
      "metadata": {
        "id": "wtlzEcJLv05F"
      },
      "source": [
        "## 라이브러리 로드"
      ]
    },
    {
      "cell_type": "code",
      "execution_count": 2,
      "metadata": {
        "id": "yWL23220FPwH"
      },
      "outputs": [],
      "source": [
        "import scipy.io as sio\n",
        "import matplotlib\n",
        "import numpy as np\n",
        "from matplotlib import pyplot as plt\n",
        "from matplotlib.image import imread\n"
      ]
    },
    {
      "cell_type": "markdown",
      "metadata": {
        "id": "7FyBBCAvv05G"
      },
      "source": [
        "## 데이터 불러오기 및 분할"
      ]
    },
    {
      "cell_type": "code",
      "execution_count": 5,
      "metadata": {
        "colab": {
          "base_uri": "https://localhost:8080/"
        },
        "id": "Icqc-FeNFPwK",
        "outputId": "25cc8b3c-139d-4d51-dc2e-0e79cddef9ba"
      },
      "outputs": [
        {
          "output_type": "stream",
          "name": "stdout",
          "text": [
            "\n",
            "Trainset.mat\n",
            "dtype:  <class 'dict'>\n",
            "label name: \"__header__\", item quantity: 76\n",
            "label name: \"__version__\", item quantity: 3\n",
            "label name: \"__globals__\", item quantity: 0\n",
            "label name: \"train_data\", item quantity: 100000\n"
          ]
        }
      ],
      "source": [
        "data=sio.loadmat('/content/drive/MyDrive/mhw/data/Trainset.mat')\n",
        "print(\"\\nTrainset.mat\")\n",
        "print('dtype: ', type(data))\n",
        "for i in data.keys():\n",
        "    print('label name: \"{name}\", item quantity: {length}'.format(name=i, length=len(data[i])))"
      ]
    },
    {
      "cell_type": "markdown",
      "metadata": {
        "id": "1pDqbIp6v05H"
      },
      "source": [
        "경로 설정 및 가장 큰 이미지 길이 찾기"
      ]
    },
    {
      "cell_type": "code",
      "execution_count": 6,
      "metadata": {
        "id": "ognM1Loev05H",
        "outputId": "a408c089-701d-4aba-8658-4840cdc07832",
        "colab": {
          "base_uri": "https://localhost:8080/"
        }
      },
      "outputs": [
        {
          "output_type": "stream",
          "name": "stdout",
          "text": [
            "가장 긴 이미지 파일의 길이: 299 px\n"
          ]
        }
      ],
      "source": [
        "def imageFile(n):\n",
        "    return(data[\"train_data\"][n][0])\n",
        "    \n",
        "lengthlist=[]\n",
        "for i in range(len(data[\"train_data\"])):\n",
        "    lengthlist.append(imageFile(i).shape[0])\n",
        "\n",
        "print('가장 긴 이미지 파일의 길이:', max(lengthlist),'px')"
      ]
    },
    {
      "cell_type": "markdown",
      "metadata": {
        "id": "stJh2NCMv05I"
      },
      "source": [
        "이미지 크기 맞추기"
      ]
    },
    {
      "cell_type": "code",
      "execution_count": null,
      "metadata": {
        "id": "Bpj9r8-dv05I"
      },
      "outputs": [],
      "source": [
        "# 패딩용 배열\n",
        "a = np.array([[0, 0, 0, 0, 0, 0, 0, 0, 0, 0, 0, 0, 0, 0, 0, 0, 0, 0, 0, 0, 0, 0, 0, 0, 0, 0, 0, 0, 0, 0, 0, 0, 0, 0, 0, 0, 0, 0, 0, 0, 0, 0, 0, 0, 0, 0, 0, 0 ]])\n",
        "#저장 경로 설정\n",
        "def outputPath(n):\n",
        "    return('/content/drive/MyDrive/mhw/data/images/trainset_images/img%d.png' %(n+1))\n",
        "\n",
        "# 299*48 사이즈에 맞춰 패딩 추가 후 png로 저장\n",
        "for i in range(len(data[\"train_data\"])):\n",
        "    image=(imageFile(i))\n",
        "    dataReshaped=(image.reshape(1,image.shape[0]*48))\n",
        "    # 패딩 크기 설정\n",
        "    margin=(299-image.shape[0])/2\n",
        "    # 나눈 값이 정수가 아닐 경우 위를 1 짧게, 아래를 1 길게 \n",
        "    if margin%1==0:\n",
        "        upper_padding=int(margin)\n",
        "        lower_padding=int(margin)\n",
        "    else:\n",
        "        upper_padding=int(margin-0.5)\n",
        "        lower_padding=int(margin+0.5)\n",
        "    \n",
        "    # 저장용 배열\n",
        "    img=np.array([])\n",
        "    upper_margin=np.array([])\n",
        "    lower_margin=np.array([])\n",
        "    #패딩 만들기\n",
        "    for j in range(upper_padding):     \n",
        "        upper_margin = np.append(a,upper_margin)\n",
        "    for k in range(lower_padding):\n",
        "        lower_margin = np.append(a,lower_margin)\n",
        "    # 패딩 붙이기\n",
        "    img=np.append(upper_margin,dataReshaped)\n",
        "    img=np.append(img,lower_margin)\n",
        "    # 299*48 사이즈로 변형\n",
        "    img=img.reshape(299,48)\n",
        "    #png로 저장\n",
        "    matplotlib.image.imsave(outputPath(i), img, cmap='gray')\n"
      ]
    },
    {
      "cell_type": "markdown",
      "metadata": {
        "id": "V5XBnNedv05I"
      },
      "source": [
        "## 처리한 파일 확인 및 잔여 데이터 지우기"
      ]
    },
    {
      "cell_type": "code",
      "execution_count": null,
      "metadata": {
        "id": "td2tUPSDv05J",
        "outputId": "a48dbf0a-b82f-446f-a51e-c988c7f8e31a"
      },
      "outputs": [
        {
          "data": {
            "image/png": "[encoded data removed]",
            "text/plain": [
              "<Figure size 640x480 with 1 Axes>"
            ]
          },
          "metadata": {},
          "output_type": "display_data"
        }
      ],
      "source": [
        "image_1 = imread(outputPath(0))\n",
        "# plot raw pixel data\n",
        "plt.imshow(image_1)\n",
        "# show the figure\n",
        "plt.show()"
      ]
    },
    {
      "cell_type": "markdown",
      "metadata": {
        "id": "7rZV1W7fv05J"
      },
      "source": [
        "데이터 지우기"
      ]
    },
    {
      "cell_type": "code",
      "execution_count": null,
      "metadata": {
        "id": "dUmgTTuav05J"
      },
      "outputs": [],
      "source": [
        "del(data)\n",
        "del(lengthlist)\n",
        "del(a)\n",
        "del(image)\n",
        "del(dataReshaped)\n",
        "del(margin)\n",
        "del(upper_padding)\n",
        "del(lower_padding)\n",
        "del(upper_margin)\n",
        "del(lower_margin)\n",
        "del(img)"
      ]
    },
    {
      "cell_type": "markdown",
      "metadata": {
        "id": "HhOMxJRTv05J"
      },
      "source": [
        "# 라벨링"
      ]
    },
    {
      "cell_type": "markdown",
      "metadata": {
        "id": "k0onwcTmv05K"
      },
      "source": [
        "## 라이브러리 불러오기"
      ]
    },
    {
      "cell_type": "code",
      "execution_count": null,
      "metadata": {
        "id": "mlTaka8Ov05K"
      },
      "outputs": [],
      "source": [
        "import pandas as pd\n",
        "import numpy as np\n",
        "import cv2\n",
        "from keras.utils import to_categorical, Sequence\n"
      ]
    },
    {
      "cell_type": "markdown",
      "metadata": {
        "id": "I-nLZOlnv05K"
      },
      "source": [
        "## 트레인셋 라벨링"
      ]
    },
    {
      "cell_type": "markdown",
      "metadata": {
        "id": "g9KJNPXXv05K"
      },
      "source": [
        "### 라벨 매칭"
      ]
    },
    {
      "cell_type": "code",
      "execution_count": null,
      "metadata": {
        "id": "S8iYFQ81v05K"
      },
      "outputs": [],
      "source": [
        "# Trainset_label.txt 불러오기\n",
        "trainset_labels=['image','labels']\n",
        "with open('D:/VS_Code_Workspace/mhw/Data/labels/Trainset_label.txt', 'r', encoding='utf-16 le') as label:\n",
        "    for i in range(100000):\n",
        "        line=str(label.readline())\n",
        "        line=line.replace('\\ufeff', '')\n",
        "        line=line.replace('\\n', '')\n",
        "        trainset_labels.append('img%d.png' %(i+1))\n",
        "        trainset_labels.append(line)\n",
        "    label.close()\n",
        "\n",
        "# 형태 재설정\n",
        "trainset_labels=np.array(trainset_labels)\n",
        "trainset_labels=trainset_labels.reshape(100001,2)\n",
        "trainset_labels=pd.DataFrame(trainset_labels)\n",
        "\n",
        "# csv 파일로 저장\n",
        "trainset_labels.to_csv('D:/VS_Code_Workspace/mhw/Data/labels/trainset_label.csv', \n",
        "                        index=False, \n",
        "                        header=False)"
      ]
    },
    {
      "cell_type": "markdown",
      "metadata": {
        "id": "mm3xAMPJv05L"
      },
      "source": [
        "잔여 데이터 지우기"
      ]
    },
    {
      "cell_type": "code",
      "execution_count": null,
      "metadata": {
        "id": "baMg8aoUv05L"
      },
      "outputs": [],
      "source": [
        "del(trainset_labels)"
      ]
    },
    {
      "cell_type": "markdown",
      "metadata": {
        "id": "N1N8FN3sv05L"
      },
      "source": [
        "확인용"
      ]
    },
    {
      "cell_type": "code",
      "execution_count": null,
      "metadata": {
        "id": "WTMO8aRov05M",
        "outputId": "080cc116-09f2-49ca-bd0f-a0194403e82b"
      },
      "outputs": [
        {
          "name": "stdout",
          "output_type": "stream",
          "text": [
            "(100000, 2)\n"
          ]
        },
        {
          "data": {
            "text/html": [
              "<div>\n",
              "<style scoped>\n",
              "    .dataframe tbody tr th:only-of-type {\n",
              "        vertical-align: middle;\n",
              "    }\n",
              "\n",
              "    .dataframe tbody tr th {\n",
              "        vertical-align: top;\n",
              "    }\n",
              "\n",
              "    .dataframe thead th {\n",
              "        text-align: right;\n",
              "    }\n",
              "</style>\n",
              "<table border=\"1\" class=\"dataframe\">\n",
              "  <thead>\n",
              "    <tr style=\"text-align: right;\">\n",
              "      <th></th>\n",
              "      <th>image</th>\n",
              "      <th>labels</th>\n",
              "    </tr>\n",
              "  </thead>\n",
              "  <tbody>\n",
              "    <tr>\n",
              "      <th>0</th>\n",
              "      <td>img1.png</td>\n",
              "      <td>ᠲᠠᠯᠪᠢᠭᠤᠷ</td>\n",
              "    </tr>\n",
              "    <tr>\n",
              "      <th>1</th>\n",
              "      <td>img2.png</td>\n",
              "      <td>ᠪᠣᠰᠤᠭᠠᠳᠠ</td>\n",
              "    </tr>\n",
              "    <tr>\n",
              "      <th>2</th>\n",
              "      <td>img3.png</td>\n",
              "      <td>ᠯᠣᠭᠢᠺᠴᠢ</td>\n",
              "    </tr>\n",
              "    <tr>\n",
              "      <th>3</th>\n",
              "      <td>img4.png</td>\n",
              "      <td>ᠣᠯᠣᠭᠠᠶᠢᠯᠠ</td>\n",
              "    </tr>\n",
              "    <tr>\n",
              "      <th>4</th>\n",
              "      <td>img5.png</td>\n",
              "      <td>ᠪᠤᠰᠠᠭ</td>\n",
              "    </tr>\n",
              "    <tr>\n",
              "      <th>...</th>\n",
              "      <td>...</td>\n",
              "      <td>...</td>\n",
              "    </tr>\n",
              "    <tr>\n",
              "      <th>99995</th>\n",
              "      <td>img99996.png</td>\n",
              "      <td>ᠤᠭᠲᠤᠮᠠᠯ</td>\n",
              "    </tr>\n",
              "    <tr>\n",
              "      <th>99996</th>\n",
              "      <td>img99997.png</td>\n",
              "      <td>ᠺᠣᠮᠠᠨᠳ᠋ᠯᠠᠯ</td>\n",
              "    </tr>\n",
              "    <tr>\n",
              "      <th>99997</th>\n",
              "      <td>img99998.png</td>\n",
              "      <td>ᠰᠤᠷᠴᠢᠬ᠎ᠠ</td>\n",
              "    </tr>\n",
              "    <tr>\n",
              "      <th>99998</th>\n",
              "      <td>img99999.png</td>\n",
              "      <td>ᠪᠠᠷᠠᠭᠳᠠᠯ</td>\n",
              "    </tr>\n",
              "    <tr>\n",
              "      <th>99999</th>\n",
              "      <td>img100000.png</td>\n",
              "      <td>ᠬᠤᠯᠤᠯᠵᠠ</td>\n",
              "    </tr>\n",
              "  </tbody>\n",
              "</table>\n",
              "<p>100000 rows × 2 columns</p>\n",
              "</div>"
            ],
            "text/plain": [
              "               image      labels\n",
              "0           img1.png    ᠲᠠᠯᠪᠢᠭᠤᠷ\n",
              "1           img2.png    ᠪᠣᠰᠤᠭᠠᠳᠠ\n",
              "2           img3.png     ᠯᠣᠭᠢᠺᠴᠢ\n",
              "3           img4.png   ᠣᠯᠣᠭᠠᠶᠢᠯᠠ\n",
              "4           img5.png       ᠪᠤᠰᠠᠭ\n",
              "...              ...         ...\n",
              "99995   img99996.png     ᠤᠭᠲᠤᠮᠠᠯ\n",
              "99996   img99997.png  ᠺᠣᠮᠠᠨᠳ᠋ᠯᠠᠯ\n",
              "99997   img99998.png    ᠰᠤᠷᠴᠢᠬ᠎ᠠ\n",
              "99998   img99999.png    ᠪᠠᠷᠠᠭᠳᠠᠯ\n",
              "99999  img100000.png     ᠬᠤᠯᠤᠯᠵᠠ\n",
              "\n",
              "[100000 rows x 2 columns]"
            ]
          },
          "execution_count": 5,
          "metadata": {},
          "output_type": "execute_result"
        }
      ],
      "source": [
        "dataset=pd.read_csv('D:/VS_Code_Workspace/mhw/Data/labels/trainset_label.csv')\n",
        "print(dataset.shape)\n",
        "dataset"
      ]
    },
    {
      "cell_type": "markdown",
      "metadata": {
        "id": "l_gza4Z4v05M"
      },
      "source": [
        "## 학습"
      ]
    },
    {
      "cell_type": "markdown",
      "metadata": {
        "id": "ElqspY-Nv05M"
      },
      "source": [
        "### 라이브러리 불러오기"
      ]
    },
    {
      "cell_type": "code",
      "execution_count": null,
      "metadata": {
        "id": "ap1sYyInv05M"
      },
      "outputs": [],
      "source": [
        "from keras import layers, models, utils\n",
        "from keras.models import load_model\n",
        "from keras.utils import to_categorical, Sequence\n",
        "import os\n",
        "import tensorflow as tf"
      ]
    },
    {
      "cell_type": "markdown",
      "metadata": {
        "id": "Lyli8c4-v05M"
      },
      "source": [
        "### 데이터생성기 클래스"
      ]
    },
    {
      "cell_type": "code",
      "execution_count": null,
      "metadata": {
        "id": "6LNcgWyqv05M"
      },
      "outputs": [],
      "source": [
        "class DataGenerator(Sequence):\n",
        "    def __init__(self, path, list_IDs, labels,img_sizeX, img_sizeY,\n",
        "    batch_size, img_channel, num_classes):\n",
        "     \n",
        "        # 데이터셋 경로\n",
        "        self.path = path\n",
        "        # 데이터 이미지 개별 주소 [ DataFrame 형식 (image 주소, image 클래스) ]\n",
        "        self.list_IDs = list_IDs\n",
        "        # 데이터 라벨 리스트 [ DataFrame 형식 (image 주소, image 클래스) ]\n",
        "        self.labels = labels\n",
        "        # 가로 크기\n",
        "        self.img_sizeX = img_sizeX\n",
        "         # 세로 크기\n",
        "        self.img_sizeY = img_sizeY\n",
        "        # 학습 Batch 사이즈\n",
        "        self.batch_size = batch_size\n",
        "        # 이미지 채널 [RGB or Gray]\n",
        "        self.img_channel = img_channel\n",
        "        # 데이터 라벨의 클래스 수\n",
        "        self.num_classes = num_classes\n",
        "        # 전체 데이터 수\n",
        "        self.indexes = np.arange(len(self.list_IDs))\n",
        "   \n",
        "    def __len__(self):\n",
        "        len_ = int(len(self.list_IDs)/self.batch_size)\n",
        "        if len_*self.batch_size < len(self.list_IDs):\n",
        "            len_ += 1\n",
        "        return len_\n",
        "    \n",
        "    def __getitem__(self, index):\n",
        "        indexes = self.indexes[index*self.batch_size:(index+1)*self.batch_size]\n",
        "        list_IDs_temp = [self.list_IDs[k] for k in indexes]\n",
        "        X, y = self.__data_generation(list_IDs_temp)\n",
        "        return X, y\n",
        "            \n",
        "    def __data_generation(self, list_IDs_temp):\n",
        "        X = np.zeros((self.batch_size, self.img_sizeX, self.img_sizeY, self.img_channel))\n",
        "        y = np.zeros((self.batch_size, self.num_classes), dtype=int)\n",
        "        for i, ID in enumerate(list_IDs_temp):\n",
        "            img = cv2.imread(self.path+ID)\n",
        "            X[i, ] = img\n",
        "            y[i, ] = to_categorical(self.labels[i], num_classes=self.num_classes)\n",
        "        return X, y"
      ]
    },
    {
      "cell_type": "markdown",
      "metadata": {
        "id": "tVCxGH1hv05N"
      },
      "source": [
        "### 데이터셋 전처리"
      ]
    },
    {
      "cell_type": "code",
      "execution_count": null,
      "metadata": {
        "id": "UPHx4h5lv05N"
      },
      "outputs": [],
      "source": [
        "# 이미지 주소 및 클래스 라벨 파일 불러오기\n",
        "train_labels = pd.read_csv('D:/VS_Code_Workspace/mhw/Data/labels/trainset_label.csv')\n",
        "\n",
        "# 라벨 정보 전처리\n",
        "# 전체 클래스 수\n",
        "clss_num = len(train_labels['labels'].unique())\n",
        "# 클래스 -> 숫자로 변환 (카테고리 형식의 클래스를 원 핫 인코딩)\n",
        "labels_dict = dict(zip(train_labels['labels'].unique(), range(clss_num)))\n",
        "train_labels = train_labels.replace({\"labels\": labels_dict})\n",
        "img_sizeX = 299\n",
        "img_sizeY = 48\n",
        "img_ch = 1\n",
        "num_class = 5000\n",
        "batch_size = 32\n",
        "\n",
        "train_generator = DataGenerator('D:/VS_Code_Workspace/mhw/Data/images/trainset_images', train_labels['image'],\n",
        "                                train_labels['labels'],\n",
        "                                img_sizeX, img_sizeY,\n",
        "                                batch_size, \n",
        "                                img_ch, num_class)"
      ]
    },
    {
      "cell_type": "markdown",
      "metadata": {
        "id": "Hjx6EDs9v05N"
      },
      "source": [
        "### 모델 설정"
      ]
    },
    {
      "cell_type": "code",
      "execution_count": null,
      "metadata": {
        "id": "mng2kf9hv05N"
      },
      "outputs": [],
      "source": [
        "model=models.Sequential()"
      ]
    },
    {
      "cell_type": "code",
      "execution_count": null,
      "metadata": {
        "id": "lPADHg3Wv05O"
      },
      "outputs": [],
      "source": [
        "#인코딩\n",
        "model.add(layers.Conv2D(64, (3, 3), activation='relu', input_shape=(299, 48, 1)))\n",
        "model.add(layers.MaxPooling2D(2, 2))\n",
        "model.add(layers.Conv2D(128, (3, 3), activation='relu'))\n",
        "model.add(layers.MaxPooling2D(2, 2))\n",
        "model.add(layers.Conv2D(256, (3, 3), activation='relu'))\n",
        "model.add(layers.MaxPooling2D(2, 2))\n",
        "model.add(layers.Conv2D(512, (3, 3), activation='relu'))\n",
        "#디코딩\n",
        "model.add(layers.Flatten())\n",
        "model.add(layers.Dense(512, activation='relu'))\n",
        "model.add(layers.Dense(5000, activation='softmax'))"
      ]
    },
    {
      "cell_type": "code",
      "execution_count": null,
      "metadata": {
        "id": "dER2hyYPv05O",
        "outputId": "0338404b-1600-44da-81c8-4b233457d55a"
      },
      "outputs": [
        {
          "name": "stdout",
          "output_type": "stream",
          "text": [
            "Model: \"sequential\"\n",
            "_________________________________________________________________\n",
            " Layer (type)                Output Shape              Param #   \n",
            "=================================================================\n",
            " conv2d (Conv2D)             (None, 295, 46, 64)       640       \n",
            "                                                                 \n",
            " max_pooling2d (MaxPooling2D  (None, 147, 23, 64)      0         \n",
            " )                                                               \n",
            "                                                                 \n",
            " conv2d_1 (Conv2D)           (None, 145, 21, 128)      73856     \n",
            "                                                                 \n",
            " max_pooling2d_1 (MaxPooling  (None, 72, 10, 128)      0         \n",
            " 2D)                                                             \n",
            "                                                                 \n",
            " conv2d_2 (Conv2D)           (None, 70, 8, 256)        295168    \n",
            "                                                                 \n",
            " max_pooling2d_2 (MaxPooling  (None, 35, 4, 256)       0         \n",
            " 2D)                                                             \n",
            "                                                                 \n",
            " conv2d_3 (Conv2D)           (None, 33, 2, 512)        1180160   \n",
            "                                                                 \n",
            " flatten (Flatten)           (None, 33792)             0         \n",
            "                                                                 \n",
            " dense (Dense)               (None, 512)               17302016  \n",
            "                                                                 \n",
            " dense_1 (Dense)             (None, 933)               478629    \n",
            "                                                                 \n",
            "=================================================================\n",
            "Total params: 19,330,469\n",
            "Trainable params: 19,330,469\n",
            "Non-trainable params: 0\n",
            "_________________________________________________________________\n"
          ]
        }
      ],
      "source": [
        "#모델 확인\n",
        "model.summary()"
      ]
    },
    {
      "cell_type": "markdown",
      "source": [
        "### 학습 진행"
      ],
      "metadata": {
        "id": "hHrd-grVya93"
      }
    },
    {
      "cell_type": "code",
      "execution_count": null,
      "metadata": {
        "id": "ZN84tnbLv05O"
      },
      "outputs": [],
      "source": [
        "checkpoint_path = 'D:/VS_Code_Workspace/mhw/Data/models/cp--{epoch:04d}.ckpt'\n",
        "checkpoint_dir = os.path.dirname(checkpoint_path)\n",
        "\n",
        "cp_callback = tf.keras.callbacks.ModelCheckpoint(checkpoint_path,\n",
        "                                                 save_weights_only=True,\n",
        "                                                 verbose=0,\n",
        "                                                 save_freq='epoch',\n",
        "                                                 )  # 5번째 에포크마다 가중치를 저장"
      ]
    },
    {
      "cell_type": "code",
      "execution_count": null,
      "metadata": {
        "id": "cKjNNUXvv05O"
      },
      "outputs": [],
      "source": [
        "#학습과정 설정\n",
        "model.compile(optimizer='adam',\n",
        "              loss='categorical_crossentropy',\n",
        "              metrics=['accuracy'])"
      ]
    },
    {
      "cell_type": "code",
      "execution_count": null,
      "metadata": {
        "id": "Y0J9YYrkv05O",
        "outputId": "ff5c316d-412d-47f9-b673-74c848cc2cb1"
      },
      "outputs": [
        {
          "name": "stderr",
          "output_type": "stream",
          "text": [
            "C:\\Users\\astmd\\AppData\\Local\\Temp\\ipykernel_9508\\2210781927.py:1: UserWarning: `Model.fit_generator` is deprecated and will be removed in a future version. Please use `Model.fit`, which supports generators.\n",
            "  history = model.fit_generator(train_generator, epochs=1)\n"
          ]
        },
        {
          "ename": "",
          "evalue": "",
          "output_type": "error",
          "traceback": [
            "\u001b[1;31mCanceled future for execute_request message before replies were done"
          ]
        },
        {
          "ename": "",
          "evalue": "",
          "output_type": "error",
          "traceback": [
            "\u001b[1;31m현재 셀 또는 이전 셀에서 코드를 실행하는 동안 Kernel이 충돌했습니다. 셀의 코드를 검토하여 오류의 가능한 원인을 식별하세요. 자세한 내용을 보려면 <a href='https://aka.ms/vscodeJupyterKernelCrash'> 여기 </a> 를 클릭하세요. 자세한 내용은 Jupyter <a href='command:jupyter.viewOutput'>로그</a>를 참조하세요."
          ]
        }
      ],
      "source": [
        "history = model.fit_generator(train_generator, epochs=1)"
      ]
    }
  ],
  "metadata": {
    "colab": {
      "provenance": [],
      "include_colab_link": true
    },
    "kernelspec": {
      "display_name": "Python 3.9.12 ('base')",
      "language": "python",
      "name": "python3"
    },
    "language_info": {
      "codemirror_mode": {
        "name": "ipython",
        "version": 3
      },
      "file_extension": ".py",
      "mimetype": "text/x-python",
      "name": "python",
      "nbconvert_exporter": "python",
      "pygments_lexer": "ipython3",
      "version": "3.9.12"
    },
    "orig_nbformat": 4,
    "vscode": {
      "interpreter": {
        "hash": "427ce30cbeb07a6a1bdfe2b144a058f314136ec229d28cc02e1dc1b3fa60b22a"
      }
    },
    "accelerator": "GPU",
    "gpuClass": "standard"
  },
  "nbformat": 4,
  "nbformat_minor": 0
}