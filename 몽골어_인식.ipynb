{
  "cells": [
    {
      "cell_type": "markdown",
      "metadata": {
        "id": "view-in-github",
        "colab_type": "text"
      },
      "source": [
        "<a href=\"https://colab.research.google.com/github/spiderpupa/traditional-mongolic-handwritten/blob/main/%EB%AA%BD%EA%B3%A8%EC%96%B4_%EC%9D%B8%EC%8B%9D.ipynb\" target=\"_parent\"><img src=\"https://colab.research.google.com/assets/colab-badge.svg\" alt=\"Open In Colab\"/></a>"
      ]
    },
    {
      "cell_type": "markdown",
      "metadata": {
        "id": "ElqspY-Nv05M"
      },
      "source": [
        "### 라이브러리 불러오기"
      ]
    },
    {
      "cell_type": "code",
      "execution_count": null,
      "metadata": {
        "id": "yWL23220FPwH"
      },
      "outputs": [],
      "source": [
        "import numpy as np\n",
        "import pandas as pd\n",
        "import cv2\n",
        "import os\n",
        "import tensorflow as tf\n",
        "from matplotlib import pyplot as plt\n",
        "from keras.utils import to_categorical, Sequence\n",
        "from keras import layers, models\n",
        "from keras.models import load_model\n",
        "from keras.callbacks import EarlyStopping\n",
        "from sklearn.model_selection import train_test_split"
      ]
    },
    {
      "cell_type": "code",
      "source": [
        "from google.colab import drive\n",
        "drive.mount('/content/drive')"
      ],
      "metadata": {
        "colab": {
          "base_uri": "https://localhost:8080/"
        },
        "id": "EOVH7dCPdymZ",
        "outputId": "786c8957-1fa2-498c-c694-e25d19803fcf"
      },
      "execution_count": null,
      "outputs": [
        {
          "output_type": "stream",
          "name": "stdout",
          "text": [
            "Mounted at /content/drive\n"
          ]
        }
      ]
    },
    {
      "cell_type": "code",
      "source": [
        "!mkdir images\n",
        "%cd ./images"
      ],
      "metadata": {
        "colab": {
          "base_uri": "https://localhost:8080/"
        },
        "id": "89FIPhDQhWqQ",
        "outputId": "a614f761-5a01-4c94-84be-19df5151c9af"
      },
      "execution_count": null,
      "outputs": [
        {
          "output_type": "stream",
          "name": "stdout",
          "text": [
            "/content/images\n"
          ]
        }
      ]
    },
    {
      "cell_type": "code",
      "source": [
        "!unzip -qq '/content/drive/MyDrive/mhw/data/images/trainset.zip'\n",
        "!unzip -qq '/content/drive/MyDrive/mhw/data/images/testset1.zip'\n",
        "!unzip -qq '/content/drive/MyDrive/mhw/data/images/testset2.zip'"
      ],
      "metadata": {
        "id": "tNW6Yu3WhY3e"
      },
      "execution_count": null,
      "outputs": []
    },
    {
      "cell_type": "code",
      "source": [
        "from google.colab.patches import cv2_imshow\n",
        "import os\n",
        "img=cv2.imread('/content/images/t1img1.png')\n",
        "cv2_imshow(img)"
      ],
      "metadata": {
        "colab": {
          "base_uri": "https://localhost:8080/",
          "height": 316
        },
        "id": "5Q-4sfBa94H8",
        "outputId": "ac64ee43-b62d-498f-8089-cea22bc2fc37"
      },
      "execution_count": null,
      "outputs": [
        {
          "output_type": "display_data",
          "data": {
            "text/plain": [
              "<PIL.Image.Image image mode=RGB size=48x299 at 0x7F183DB82A00>"
            ],
            "image/png": "[encoded data removed]"
          },
          "metadata": {}
        }
      ]
    },
    {
      "cell_type": "code",
      "source": [
        "import scipy.io as sio\n",
        "import matplotlib\n",
        "data=sio.loadmat('/content/drive/MyDrive/mhw/data/datasets/Testset_II.mat')\n",
        "print(\"\\nTestset_I.mat\")\n",
        "print('dtype: ', type(data))\n",
        "for i in data.keys():\n",
        "    print('label name: \"{name}\", item quantity: {length}'.format(name=i, length=len(data[i])))"
      ],
      "metadata": {
        "colab": {
          "base_uri": "https://localhost:8080/"
        },
        "id": "1wMUBjpmwNKt",
        "outputId": "f227746c-e57f-4e64-8e95-d326b746005f"
      },
      "execution_count": null,
      "outputs": [
        {
          "output_type": "stream",
          "name": "stdout",
          "text": [
            "\n",
            "Testset_I.mat\n",
            "dtype:  <class 'dict'>\n",
            "label name: \"__header__\", item quantity: 76\n",
            "label name: \"__version__\", item quantity: 3\n",
            "label name: \"__globals__\", item quantity: 0\n",
            "label name: \"test_data3\", item quantity: 14085\n"
          ]
        }
      ]
    },
    {
      "cell_type": "code",
      "source": [
        "def imageFile(n):\n",
        "    return(data[\"test_data3\"][n][0])\n",
        "\n",
        "# 패딩용 배열\n",
        "a = np.array([[0, 0, 0, 0, 0, 0, 0, 0, 0, 0, 0, 0, 0, 0, 0, 0, 0, 0, 0, 0, 0, 0,\n",
        "               0, 0, 0, 0, 0, 0, 0, 0, 0, 0, 0, 0, 0, 0, 0, 0, 0, 0, 0, 0, 0, 0,\n",
        "               0, 0, 0, 0 ]])\n",
        "#저장 경로 설정\n",
        "def outputPath(n):\n",
        "    return('/content/drive/MyDrive/mhw/data/images/testset2_images/t2img%d.png' %(n+1))\n",
        "\n",
        "# 299*48 사이즈에 맞춰 패딩 추가 후 png로 저장\n",
        "for i in range(len(data[\"test_data3\"])):\n",
        "    image=(imageFile(i))\n",
        "    dataReshaped=(image.reshape(1,image.shape[0]*48))\n",
        "    # 패딩 크기 설정\n",
        "    margin=(299-image.shape[0])/2\n",
        "    # 나눈 값이 정수가 아닐 경우 위를 1 짧게, 아래를 1 길게 \n",
        "    if margin%1==0:\n",
        "        upper_padding=int(margin)\n",
        "        lower_padding=int(margin)\n",
        "    else:\n",
        "        upper_padding=int(margin-0.5)\n",
        "        lower_padding=int(margin+0.5)\n",
        "    \n",
        "    # 저장용 배열\n",
        "    img=np.array([])\n",
        "    upper_margin=np.array([])\n",
        "    lower_margin=np.array([])\n",
        "    #패딩 만들기\n",
        "    for j in range(upper_padding):     \n",
        "        upper_margin = np.append(a,upper_margin)\n",
        "    for k in range(lower_padding):\n",
        "        lower_margin = np.append(a,lower_margin)\n",
        "    # 패딩 붙이기\n",
        "    img=np.append(upper_margin,dataReshaped)\n",
        "    img=np.append(img,lower_margin)\n",
        "    # 299*48 사이즈로 변형\n",
        "    img=img.reshape(299,48)\n",
        "    #png로 저장\n",
        "    matplotlib.image.imsave(outputPath(i), img, cmap='gray')"
      ],
      "metadata": {
        "id": "S4xghw-Xv2Nb"
      },
      "execution_count": null,
      "outputs": []
    },
    {
      "cell_type": "markdown",
      "metadata": {
        "id": "Lyli8c4-v05M"
      },
      "source": [
        "### 데이터생성기 클래스"
      ]
    },
    {
      "cell_type": "code",
      "execution_count": null,
      "metadata": {
        "id": "6LNcgWyqv05M"
      },
      "outputs": [],
      "source": [
        "class DataGenerator(Sequence):\n",
        "    def __init__(self, path, list_IDs, labels,img_sizeX, img_sizeY,\n",
        "    batch_size, num_classes):\n",
        "     \n",
        "        # 데이터셋 경로\n",
        "        self.path = path\n",
        "        # 데이터 이미지 개별 주소 [ DataFrame 형식 (image 주소, image 클래스) ]\n",
        "        self.list_IDs = list_IDs\n",
        "        # 데이터 라벨 리스트 [ DataFrame 형식 (image 주소, image 클래스) ]\n",
        "        self.labels = labels\n",
        "        # 가로 크기\n",
        "        self.img_sizeX = img_sizeX\n",
        "         # 세로 크기\n",
        "        self.img_sizeY = img_sizeY\n",
        "        # 학습 Batch 사이즈\n",
        "        self.batch_size = batch_size\n",
        "        # 데이터 라벨의 클래스 수\n",
        "        self.num_classes = num_classes\n",
        "        # 전체 데이터 수\n",
        "        self.indexes = np.arange(len(self.list_IDs))\n",
        "   \n",
        "    def __len__(self):\n",
        "        len_ = int(len(self.list_IDs)/self.batch_size)\n",
        "        if len_*self.batch_size < len(self.list_IDs):\n",
        "            len_ += 1\n",
        "        return len_\n",
        "    \n",
        "    def __getitem__(self, index):\n",
        "        indexes = self.indexes[index*self.batch_size:(index+1)*self.batch_size]\n",
        "        list_IDs_temp = [self.list_IDs[k] for k in indexes]\n",
        "        X, y = self.__data_generation(list_IDs_temp)\n",
        "        return X, y\n",
        "            \n",
        "    def __data_generation(self, list_IDs_temp):\n",
        "        X = np.zeros((self.batch_size, self.img_sizeX, self.img_sizeY))\n",
        "        y = np.zeros((self.batch_size, self.num_classes), dtype=int)\n",
        "        for i, ID in enumerate(list_IDs_temp):\n",
        "            img = cv2.imread(self.path+ID, cv2.IMREAD_GRAYSCALE)\n",
        "            X[i, ] = img/255\n",
        "            y[i, ] = to_categorical(self.labels[i], num_classes=self.num_classes)\n",
        "        return X, y"
      ]
    },
    {
      "cell_type": "markdown",
      "metadata": {
        "id": "tVCxGH1hv05N"
      },
      "source": [
        "### 데이터셋 전처리"
      ]
    },
    {
      "cell_type": "markdown",
      "metadata": {
        "id": "EnoieloWMYev"
      },
      "source": [
        "#### 라벨 불러오기"
      ]
    },
    {
      "cell_type": "code",
      "execution_count": null,
      "metadata": {
        "id": "tXognCM8GC9W"
      },
      "outputs": [],
      "source": [
        "train=pd.read_csv('/content/drive/MyDrive/mhw/data/labels/trainset_label.csv')\n",
        "t1=pd.read_csv('/content/drive/MyDrive/mhw/data/labels/testset1_label.csv')\n",
        "t2=pd.read_csv('/content/drive/MyDrive/mhw/data/labels/testset2_label.csv')\n",
        "\n",
        "set_=pd.concat([t1, t2], axis = 0)\n",
        "dataset=pd.concat([train, set_], axis = 0)"
      ]
    },
    {
      "cell_type": "code",
      "source": [
        "labelList=dataset['labels']"
      ],
      "metadata": {
        "id": "RCJ4lad-WzVZ"
      },
      "execution_count": null,
      "outputs": []
    },
    {
      "cell_type": "code",
      "source": [
        "file_list=os.listdir('/content/images')"
      ],
      "metadata": {
        "id": "dsP3vNGztvGu"
      },
      "execution_count": null,
      "outputs": []
    },
    {
      "cell_type": "code",
      "source": [
        "for i in range(5000):\n",
        "    os.rename('t1img%d.png' %(i+1), 'img%d.png' %(i+100001))"
      ],
      "metadata": {
        "id": "oLMePMsut21H"
      },
      "execution_count": null,
      "outputs": []
    },
    {
      "cell_type": "code",
      "source": [
        "for i in range(14085):\n",
        "    os.rename('t2img%d.png' %(i+1), 'img%d.png' %(i+150001))"
      ],
      "metadata": {
        "colab": {
          "base_uri": "https://localhost:8080/",
          "height": 193
        },
        "id": "pUVaGru-up4y",
        "outputId": "2dcfe731-bb9f-4b9b-f577-238be3373e2a"
      },
      "execution_count": null,
      "outputs": [
        {
          "output_type": "error",
          "ename": "FileNotFoundError",
          "evalue": "ignored",
          "traceback": [
            "\u001b[0;31m---------------------------------------------------------------------------\u001b[0m",
            "\u001b[0;31mFileNotFoundError\u001b[0m                         Traceback (most recent call last)",
            "\u001b[0;32m<ipython-input-62-029c5a3a24af>\u001b[0m in \u001b[0;36m<module>\u001b[0;34m\u001b[0m\n\u001b[1;32m      1\u001b[0m \u001b[0;32mfor\u001b[0m \u001b[0mi\u001b[0m \u001b[0;32min\u001b[0m \u001b[0mrange\u001b[0m\u001b[0;34m(\u001b[0m\u001b[0;36m14085\u001b[0m\u001b[0;34m)\u001b[0m\u001b[0;34m:\u001b[0m\u001b[0;34m\u001b[0m\u001b[0;34m\u001b[0m\u001b[0m\n\u001b[0;32m----> 2\u001b[0;31m     \u001b[0mos\u001b[0m\u001b[0;34m.\u001b[0m\u001b[0mrename\u001b[0m\u001b[0;34m(\u001b[0m\u001b[0;34m't2img%d.png'\u001b[0m \u001b[0;34m%\u001b[0m\u001b[0;34m(\u001b[0m\u001b[0mi\u001b[0m\u001b[0;34m+\u001b[0m\u001b[0;36m1\u001b[0m\u001b[0;34m)\u001b[0m\u001b[0;34m,\u001b[0m \u001b[0;34m'img%d.png'\u001b[0m \u001b[0;34m%\u001b[0m\u001b[0;34m(\u001b[0m\u001b[0mi\u001b[0m\u001b[0;34m+\u001b[0m\u001b[0;36m150001\u001b[0m\u001b[0;34m)\u001b[0m\u001b[0;34m)\u001b[0m\u001b[0;34m\u001b[0m\u001b[0;34m\u001b[0m\u001b[0m\n\u001b[0m",
            "\u001b[0;31mFileNotFoundError\u001b[0m: [Errno 2] No such file or directory: 't2img2011.png' -> 'img152011.png'"
          ]
        }
      ]
    },
    {
      "cell_type": "code",
      "source": [
        "# 전체 클래스 수\n",
        "clss_num=len(labelList.unique())\n",
        "# 클래스 -> 숫자로 변환 (카테고리 형식의 클래스를 원 핫 인코딩)\n",
        "labels_dict = dict(zip(labelList.unique(), range(clss_num)))\n",
        "dataset = dataset.replace({\"labels\": labels_dict})"
      ],
      "metadata": {
        "id": "d9-didQKRFs8"
      },
      "execution_count": null,
      "outputs": []
    },
    {
      "cell_type": "code",
      "source": [
        "dataset"
      ],
      "metadata": {
        "colab": {
          "base_uri": "https://localhost:8080/",
          "height": 424
        },
        "id": "Y148wh2PsiBt",
        "outputId": "18464802-c25b-4d51-f600-8e1be407e2ac"
      },
      "execution_count": null,
      "outputs": [
        {
          "output_type": "execute_result",
          "data": {
            "text/plain": [
              "               image  labels\n",
              "0           img1.png       0\n",
              "1           img2.png       1\n",
              "2           img3.png       2\n",
              "3           img4.png       3\n",
              "4           img5.png       4\n",
              "...              ...     ...\n",
              "99995   img99996.png    4995\n",
              "99996   img99997.png    4996\n",
              "99997   img99998.png    4997\n",
              "99998   img99999.png    4998\n",
              "99999  img100000.png    4999\n",
              "\n",
              "[100000 rows x 2 columns]"
            ],
            "text/html": [
              "\n",
              "  <div id=\"df-317951c4-89f5-4361-a80a-cf6a692ccf91\">\n",
              "    <div class=\"colab-df-container\">\n",
              "      <div>\n",
              "<style scoped>\n",
              "    .dataframe tbody tr th:only-of-type {\n",
              "        vertical-align: middle;\n",
              "    }\n",
              "\n",
              "    .dataframe tbody tr th {\n",
              "        vertical-align: top;\n",
              "    }\n",
              "\n",
              "    .dataframe thead th {\n",
              "        text-align: right;\n",
              "    }\n",
              "</style>\n",
              "<table border=\"1\" class=\"dataframe\">\n",
              "  <thead>\n",
              "    <tr style=\"text-align: right;\">\n",
              "      <th></th>\n",
              "      <th>image</th>\n",
              "      <th>labels</th>\n",
              "    </tr>\n",
              "  </thead>\n",
              "  <tbody>\n",
              "    <tr>\n",
              "      <th>0</th>\n",
              "      <td>img1.png</td>\n",
              "      <td>0</td>\n",
              "    </tr>\n",
              "    <tr>\n",
              "      <th>1</th>\n",
              "      <td>img2.png</td>\n",
              "      <td>1</td>\n",
              "    </tr>\n",
              "    <tr>\n",
              "      <th>2</th>\n",
              "      <td>img3.png</td>\n",
              "      <td>2</td>\n",
              "    </tr>\n",
              "    <tr>\n",
              "      <th>3</th>\n",
              "      <td>img4.png</td>\n",
              "      <td>3</td>\n",
              "    </tr>\n",
              "    <tr>\n",
              "      <th>4</th>\n",
              "      <td>img5.png</td>\n",
              "      <td>4</td>\n",
              "    </tr>\n",
              "    <tr>\n",
              "      <th>...</th>\n",
              "      <td>...</td>\n",
              "      <td>...</td>\n",
              "    </tr>\n",
              "    <tr>\n",
              "      <th>99995</th>\n",
              "      <td>img99996.png</td>\n",
              "      <td>4995</td>\n",
              "    </tr>\n",
              "    <tr>\n",
              "      <th>99996</th>\n",
              "      <td>img99997.png</td>\n",
              "      <td>4996</td>\n",
              "    </tr>\n",
              "    <tr>\n",
              "      <th>99997</th>\n",
              "      <td>img99998.png</td>\n",
              "      <td>4997</td>\n",
              "    </tr>\n",
              "    <tr>\n",
              "      <th>99998</th>\n",
              "      <td>img99999.png</td>\n",
              "      <td>4998</td>\n",
              "    </tr>\n",
              "    <tr>\n",
              "      <th>99999</th>\n",
              "      <td>img100000.png</td>\n",
              "      <td>4999</td>\n",
              "    </tr>\n",
              "  </tbody>\n",
              "</table>\n",
              "<p>100000 rows × 2 columns</p>\n",
              "</div>\n",
              "      <button class=\"colab-df-convert\" onclick=\"convertToInteractive('df-317951c4-89f5-4361-a80a-cf6a692ccf91')\"\n",
              "              title=\"Convert this dataframe to an interactive table.\"\n",
              "              style=\"display:none;\">\n",
              "        \n",
              "  <svg xmlns=\"http://www.w3.org/2000/svg\" height=\"24px\"viewBox=\"0 0 24 24\"\n",
              "       width=\"24px\">\n",
              "    <path d=\"M0 0h24v24H0V0z\" fill=\"none\"/>\n",
              "    <path d=\"M18.56 5.44l.94 2.06.94-2.06 2.06-.94-2.06-.94-.94-2.06-.94 2.06-2.06.94zm-11 1L8.5 8.5l.94-2.06 2.06-.94-2.06-.94L8.5 2.5l-.94 2.06-2.06.94zm10 10l.94 2.06.94-2.06 2.06-.94-2.06-.94-.94-2.06-.94 2.06-2.06.94z\"/><path d=\"M17.41 7.96l-1.37-1.37c-.4-.4-.92-.59-1.43-.59-.52 0-1.04.2-1.43.59L10.3 9.45l-7.72 7.72c-.78.78-.78 2.05 0 2.83L4 21.41c.39.39.9.59 1.41.59.51 0 1.02-.2 1.41-.59l7.78-7.78 2.81-2.81c.8-.78.8-2.07 0-2.86zM5.41 20L4 18.59l7.72-7.72 1.47 1.35L5.41 20z\"/>\n",
              "  </svg>\n",
              "      </button>\n",
              "      \n",
              "  <style>\n",
              "    .colab-df-container {\n",
              "      display:flex;\n",
              "      flex-wrap:wrap;\n",
              "      gap: 12px;\n",
              "    }\n",
              "\n",
              "    .colab-df-convert {\n",
              "      background-color: #E8F0FE;\n",
              "      border: none;\n",
              "      border-radius: 50%;\n",
              "      cursor: pointer;\n",
              "      display: none;\n",
              "      fill: #1967D2;\n",
              "      height: 32px;\n",
              "      padding: 0 0 0 0;\n",
              "      width: 32px;\n",
              "    }\n",
              "\n",
              "    .colab-df-convert:hover {\n",
              "      background-color: #E2EBFA;\n",
              "      box-shadow: 0px 1px 2px rgba(60, 64, 67, 0.3), 0px 1px 3px 1px rgba(60, 64, 67, 0.15);\n",
              "      fill: #174EA6;\n",
              "    }\n",
              "\n",
              "    [theme=dark] .colab-df-convert {\n",
              "      background-color: #3B4455;\n",
              "      fill: #D2E3FC;\n",
              "    }\n",
              "\n",
              "    [theme=dark] .colab-df-convert:hover {\n",
              "      background-color: #434B5C;\n",
              "      box-shadow: 0px 1px 3px 1px rgba(0, 0, 0, 0.15);\n",
              "      filter: drop-shadow(0px 1px 2px rgba(0, 0, 0, 0.3));\n",
              "      fill: #FFFFFF;\n",
              "    }\n",
              "  </style>\n",
              "\n",
              "      <script>\n",
              "        const buttonEl =\n",
              "          document.querySelector('#df-317951c4-89f5-4361-a80a-cf6a692ccf91 button.colab-df-convert');\n",
              "        buttonEl.style.display =\n",
              "          google.colab.kernel.accessAllowed ? 'block' : 'none';\n",
              "\n",
              "        async function convertToInteractive(key) {\n",
              "          const element = document.querySelector('#df-317951c4-89f5-4361-a80a-cf6a692ccf91');\n",
              "          const dataTable =\n",
              "            await google.colab.kernel.invokeFunction('convertToInteractive',\n",
              "                                                     [key], {});\n",
              "          if (!dataTable) return;\n",
              "\n",
              "          const docLinkHtml = 'Like what you see? Visit the ' +\n",
              "            '<a target=\"_blank\" href=https://colab.research.google.com/notebooks/data_table.ipynb>data table notebook</a>'\n",
              "            + ' to learn more about interactive tables.';\n",
              "          element.innerHTML = '';\n",
              "          dataTable['output_type'] = 'display_data';\n",
              "          await google.colab.output.renderOutput(dataTable, element);\n",
              "          const docLink = document.createElement('div');\n",
              "          docLink.innerHTML = docLinkHtml;\n",
              "          element.appendChild(docLink);\n",
              "        }\n",
              "      </script>\n",
              "    </div>\n",
              "  </div>\n",
              "  "
            ]
          },
          "metadata": {},
          "execution_count": 53
        }
      ]
    },
    {
      "cell_type": "code",
      "source": [
        "testset"
      ],
      "metadata": {
        "colab": {
          "base_uri": "https://localhost:8080/",
          "height": 424
        },
        "id": "y9eG8Ky-sk54",
        "outputId": "e2289435-dc5c-4d74-81d5-7a9a1632e986"
      },
      "execution_count": null,
      "outputs": [
        {
          "output_type": "execute_result",
          "data": {
            "text/plain": [
              "              image  labels\n",
              "0          img1.png    5000\n",
              "1          img2.png    5001\n",
              "2          img3.png    5002\n",
              "3          img4.png    5003\n",
              "4          img5.png    5004\n",
              "...             ...     ...\n",
              "14080  img14081.png    6730\n",
              "14081  img14082.png    6730\n",
              "14082  img14083.png    6730\n",
              "14083  img14084.png    6730\n",
              "14084  img14085.png    6730\n",
              "\n",
              "[19085 rows x 2 columns]"
            ],
            "text/html": [
              "\n",
              "  <div id=\"df-9ca35e7b-4025-49e1-aa26-30395651d70b\">\n",
              "    <div class=\"colab-df-container\">\n",
              "      <div>\n",
              "<style scoped>\n",
              "    .dataframe tbody tr th:only-of-type {\n",
              "        vertical-align: middle;\n",
              "    }\n",
              "\n",
              "    .dataframe tbody tr th {\n",
              "        vertical-align: top;\n",
              "    }\n",
              "\n",
              "    .dataframe thead th {\n",
              "        text-align: right;\n",
              "    }\n",
              "</style>\n",
              "<table border=\"1\" class=\"dataframe\">\n",
              "  <thead>\n",
              "    <tr style=\"text-align: right;\">\n",
              "      <th></th>\n",
              "      <th>image</th>\n",
              "      <th>labels</th>\n",
              "    </tr>\n",
              "  </thead>\n",
              "  <tbody>\n",
              "    <tr>\n",
              "      <th>0</th>\n",
              "      <td>img1.png</td>\n",
              "      <td>5000</td>\n",
              "    </tr>\n",
              "    <tr>\n",
              "      <th>1</th>\n",
              "      <td>img2.png</td>\n",
              "      <td>5001</td>\n",
              "    </tr>\n",
              "    <tr>\n",
              "      <th>2</th>\n",
              "      <td>img3.png</td>\n",
              "      <td>5002</td>\n",
              "    </tr>\n",
              "    <tr>\n",
              "      <th>3</th>\n",
              "      <td>img4.png</td>\n",
              "      <td>5003</td>\n",
              "    </tr>\n",
              "    <tr>\n",
              "      <th>4</th>\n",
              "      <td>img5.png</td>\n",
              "      <td>5004</td>\n",
              "    </tr>\n",
              "    <tr>\n",
              "      <th>...</th>\n",
              "      <td>...</td>\n",
              "      <td>...</td>\n",
              "    </tr>\n",
              "    <tr>\n",
              "      <th>14080</th>\n",
              "      <td>img14081.png</td>\n",
              "      <td>6730</td>\n",
              "    </tr>\n",
              "    <tr>\n",
              "      <th>14081</th>\n",
              "      <td>img14082.png</td>\n",
              "      <td>6730</td>\n",
              "    </tr>\n",
              "    <tr>\n",
              "      <th>14082</th>\n",
              "      <td>img14083.png</td>\n",
              "      <td>6730</td>\n",
              "    </tr>\n",
              "    <tr>\n",
              "      <th>14083</th>\n",
              "      <td>img14084.png</td>\n",
              "      <td>6730</td>\n",
              "    </tr>\n",
              "    <tr>\n",
              "      <th>14084</th>\n",
              "      <td>img14085.png</td>\n",
              "      <td>6730</td>\n",
              "    </tr>\n",
              "  </tbody>\n",
              "</table>\n",
              "<p>19085 rows × 2 columns</p>\n",
              "</div>\n",
              "      <button class=\"colab-df-convert\" onclick=\"convertToInteractive('df-9ca35e7b-4025-49e1-aa26-30395651d70b')\"\n",
              "              title=\"Convert this dataframe to an interactive table.\"\n",
              "              style=\"display:none;\">\n",
              "        \n",
              "  <svg xmlns=\"http://www.w3.org/2000/svg\" height=\"24px\"viewBox=\"0 0 24 24\"\n",
              "       width=\"24px\">\n",
              "    <path d=\"M0 0h24v24H0V0z\" fill=\"none\"/>\n",
              "    <path d=\"M18.56 5.44l.94 2.06.94-2.06 2.06-.94-2.06-.94-.94-2.06-.94 2.06-2.06.94zm-11 1L8.5 8.5l.94-2.06 2.06-.94-2.06-.94L8.5 2.5l-.94 2.06-2.06.94zm10 10l.94 2.06.94-2.06 2.06-.94-2.06-.94-.94-2.06-.94 2.06-2.06.94z\"/><path d=\"M17.41 7.96l-1.37-1.37c-.4-.4-.92-.59-1.43-.59-.52 0-1.04.2-1.43.59L10.3 9.45l-7.72 7.72c-.78.78-.78 2.05 0 2.83L4 21.41c.39.39.9.59 1.41.59.51 0 1.02-.2 1.41-.59l7.78-7.78 2.81-2.81c.8-.78.8-2.07 0-2.86zM5.41 20L4 18.59l7.72-7.72 1.47 1.35L5.41 20z\"/>\n",
              "  </svg>\n",
              "      </button>\n",
              "      \n",
              "  <style>\n",
              "    .colab-df-container {\n",
              "      display:flex;\n",
              "      flex-wrap:wrap;\n",
              "      gap: 12px;\n",
              "    }\n",
              "\n",
              "    .colab-df-convert {\n",
              "      background-color: #E8F0FE;\n",
              "      border: none;\n",
              "      border-radius: 50%;\n",
              "      cursor: pointer;\n",
              "      display: none;\n",
              "      fill: #1967D2;\n",
              "      height: 32px;\n",
              "      padding: 0 0 0 0;\n",
              "      width: 32px;\n",
              "    }\n",
              "\n",
              "    .colab-df-convert:hover {\n",
              "      background-color: #E2EBFA;\n",
              "      box-shadow: 0px 1px 2px rgba(60, 64, 67, 0.3), 0px 1px 3px 1px rgba(60, 64, 67, 0.15);\n",
              "      fill: #174EA6;\n",
              "    }\n",
              "\n",
              "    [theme=dark] .colab-df-convert {\n",
              "      background-color: #3B4455;\n",
              "      fill: #D2E3FC;\n",
              "    }\n",
              "\n",
              "    [theme=dark] .colab-df-convert:hover {\n",
              "      background-color: #434B5C;\n",
              "      box-shadow: 0px 1px 3px 1px rgba(0, 0, 0, 0.15);\n",
              "      filter: drop-shadow(0px 1px 2px rgba(0, 0, 0, 0.3));\n",
              "      fill: #FFFFFF;\n",
              "    }\n",
              "  </style>\n",
              "\n",
              "      <script>\n",
              "        const buttonEl =\n",
              "          document.querySelector('#df-9ca35e7b-4025-49e1-aa26-30395651d70b button.colab-df-convert');\n",
              "        buttonEl.style.display =\n",
              "          google.colab.kernel.accessAllowed ? 'block' : 'none';\n",
              "\n",
              "        async function convertToInteractive(key) {\n",
              "          const element = document.querySelector('#df-9ca35e7b-4025-49e1-aa26-30395651d70b');\n",
              "          const dataTable =\n",
              "            await google.colab.kernel.invokeFunction('convertToInteractive',\n",
              "                                                     [key], {});\n",
              "          if (!dataTable) return;\n",
              "\n",
              "          const docLinkHtml = 'Like what you see? Visit the ' +\n",
              "            '<a target=\"_blank\" href=https://colab.research.google.com/notebooks/data_table.ipynb>data table notebook</a>'\n",
              "            + ' to learn more about interactive tables.';\n",
              "          element.innerHTML = '';\n",
              "          dataTable['output_type'] = 'display_data';\n",
              "          await google.colab.output.renderOutput(dataTable, element);\n",
              "          const docLink = document.createElement('div');\n",
              "          docLink.innerHTML = docLinkHtml;\n",
              "          element.appendChild(docLink);\n",
              "        }\n",
              "      </script>\n",
              "    </div>\n",
              "  </div>\n",
              "  "
            ]
          },
          "metadata": {},
          "execution_count": 54
        }
      ]
    },
    {
      "cell_type": "code",
      "source": [
        "# 변수 설정\n",
        "img_sizeX = 298\n",
        "img_sizeY = 48\n",
        "img_ch = 1\n",
        "num_class = 5000\n",
        "batch_size = 128"
      ],
      "metadata": {
        "id": "946j_WONYbEK"
      },
      "execution_count": null,
      "outputs": []
    },
    {
      "cell_type": "code",
      "execution_count": null,
      "metadata": {
        "id": "UPHx4h5lv05N",
        "outputId": "d371a873-bd18-491f-8cd0-1fbb47acabe3",
        "colab": {
          "base_uri": "https://localhost:8080/"
        }
      },
      "outputs": [
        {
          "output_type": "stream",
          "name": "stdout",
          "text": [
            "train_labels: 이미지 개수 60000 , 클래스 개수 5000\n",
            "test_labels: 이미지 개수 40000 , 클래스 개수 5000\n"
          ]
        }
      ],
      "source": [
        "# 라벨 정보 전처리\n",
        "train_generator = DataGenerator('/content/images/', train_labels['image'],\n",
        "                                train_labels['labels'],\n",
        "                                img_sizeX, img_sizeY,\n",
        "                                batch_size, \n",
        "                                num_class)\n",
        "\n",
        "test_generator = DataGenerator('/content/images/', test_labels['image'],\n",
        "                                test_labels['labels'],\n",
        "                                img_sizeX, img_sizeY,\n",
        "                                batch_size, \n",
        "                                num_class)\n",
        "\n",
        "print('train_labels: 이미지 개수',len(train_labels['image'].unique()), ', 클래스 개수',len(train_labels['labels'].unique()))\n",
        "print('test_labels: 이미지 개수',len(test_labels['image'].unique()), ', 클래스 개수',len(test_labels['labels'].unique()))"
      ]
    },
    {
      "cell_type": "code",
      "source": [
        "train_generator = DataGenerator('/content/images/', dataset['image'],\n",
        "                                dataset['labels'],\n",
        "                                img_sizeX, img_sizeY,\n",
        "                                batch_size, \n",
        "                                num_class)"
      ],
      "metadata": {
        "id": "M6iC1isosJkK"
      },
      "execution_count": null,
      "outputs": []
    },
    {
      "cell_type": "code",
      "source": [
        "test_labels"
      ],
      "metadata": {
        "colab": {
          "base_uri": "https://localhost:8080/",
          "height": 424
        },
        "id": "19wgwy8Ukmtb",
        "outputId": "3e747c60-5b3b-4f8c-fb51-14a1a5c95cf2"
      },
      "execution_count": null,
      "outputs": [
        {
          "output_type": "execute_result",
          "data": {
            "text/plain": [
              "              image  labels\n",
              "0      img75722.png     532\n",
              "1      img80185.png    4193\n",
              "2      img19865.png    4791\n",
              "3      img76700.png    3260\n",
              "4      img92992.png    1506\n",
              "...             ...     ...\n",
              "39995  img84192.png    1772\n",
              "39996   img4374.png    2420\n",
              "39997  img57453.png    2995\n",
              "39998  img31043.png     410\n",
              "39999  img40094.png    3342\n",
              "\n",
              "[40000 rows x 2 columns]"
            ],
            "text/html": [
              "\n",
              "  <div id=\"df-eef94485-2415-4b18-a029-fe2ff8a5b5a4\">\n",
              "    <div class=\"colab-df-container\">\n",
              "      <div>\n",
              "<style scoped>\n",
              "    .dataframe tbody tr th:only-of-type {\n",
              "        vertical-align: middle;\n",
              "    }\n",
              "\n",
              "    .dataframe tbody tr th {\n",
              "        vertical-align: top;\n",
              "    }\n",
              "\n",
              "    .dataframe thead th {\n",
              "        text-align: right;\n",
              "    }\n",
              "</style>\n",
              "<table border=\"1\" class=\"dataframe\">\n",
              "  <thead>\n",
              "    <tr style=\"text-align: right;\">\n",
              "      <th></th>\n",
              "      <th>image</th>\n",
              "      <th>labels</th>\n",
              "    </tr>\n",
              "  </thead>\n",
              "  <tbody>\n",
              "    <tr>\n",
              "      <th>0</th>\n",
              "      <td>img75722.png</td>\n",
              "      <td>532</td>\n",
              "    </tr>\n",
              "    <tr>\n",
              "      <th>1</th>\n",
              "      <td>img80185.png</td>\n",
              "      <td>4193</td>\n",
              "    </tr>\n",
              "    <tr>\n",
              "      <th>2</th>\n",
              "      <td>img19865.png</td>\n",
              "      <td>4791</td>\n",
              "    </tr>\n",
              "    <tr>\n",
              "      <th>3</th>\n",
              "      <td>img76700.png</td>\n",
              "      <td>3260</td>\n",
              "    </tr>\n",
              "    <tr>\n",
              "      <th>4</th>\n",
              "      <td>img92992.png</td>\n",
              "      <td>1506</td>\n",
              "    </tr>\n",
              "    <tr>\n",
              "      <th>...</th>\n",
              "      <td>...</td>\n",
              "      <td>...</td>\n",
              "    </tr>\n",
              "    <tr>\n",
              "      <th>39995</th>\n",
              "      <td>img84192.png</td>\n",
              "      <td>1772</td>\n",
              "    </tr>\n",
              "    <tr>\n",
              "      <th>39996</th>\n",
              "      <td>img4374.png</td>\n",
              "      <td>2420</td>\n",
              "    </tr>\n",
              "    <tr>\n",
              "      <th>39997</th>\n",
              "      <td>img57453.png</td>\n",
              "      <td>2995</td>\n",
              "    </tr>\n",
              "    <tr>\n",
              "      <th>39998</th>\n",
              "      <td>img31043.png</td>\n",
              "      <td>410</td>\n",
              "    </tr>\n",
              "    <tr>\n",
              "      <th>39999</th>\n",
              "      <td>img40094.png</td>\n",
              "      <td>3342</td>\n",
              "    </tr>\n",
              "  </tbody>\n",
              "</table>\n",
              "<p>40000 rows × 2 columns</p>\n",
              "</div>\n",
              "      <button class=\"colab-df-convert\" onclick=\"convertToInteractive('df-eef94485-2415-4b18-a029-fe2ff8a5b5a4')\"\n",
              "              title=\"Convert this dataframe to an interactive table.\"\n",
              "              style=\"display:none;\">\n",
              "        \n",
              "  <svg xmlns=\"http://www.w3.org/2000/svg\" height=\"24px\"viewBox=\"0 0 24 24\"\n",
              "       width=\"24px\">\n",
              "    <path d=\"M0 0h24v24H0V0z\" fill=\"none\"/>\n",
              "    <path d=\"M18.56 5.44l.94 2.06.94-2.06 2.06-.94-2.06-.94-.94-2.06-.94 2.06-2.06.94zm-11 1L8.5 8.5l.94-2.06 2.06-.94-2.06-.94L8.5 2.5l-.94 2.06-2.06.94zm10 10l.94 2.06.94-2.06 2.06-.94-2.06-.94-.94-2.06-.94 2.06-2.06.94z\"/><path d=\"M17.41 7.96l-1.37-1.37c-.4-.4-.92-.59-1.43-.59-.52 0-1.04.2-1.43.59L10.3 9.45l-7.72 7.72c-.78.78-.78 2.05 0 2.83L4 21.41c.39.39.9.59 1.41.59.51 0 1.02-.2 1.41-.59l7.78-7.78 2.81-2.81c.8-.78.8-2.07 0-2.86zM5.41 20L4 18.59l7.72-7.72 1.47 1.35L5.41 20z\"/>\n",
              "  </svg>\n",
              "      </button>\n",
              "      \n",
              "  <style>\n",
              "    .colab-df-container {\n",
              "      display:flex;\n",
              "      flex-wrap:wrap;\n",
              "      gap: 12px;\n",
              "    }\n",
              "\n",
              "    .colab-df-convert {\n",
              "      background-color: #E8F0FE;\n",
              "      border: none;\n",
              "      border-radius: 50%;\n",
              "      cursor: pointer;\n",
              "      display: none;\n",
              "      fill: #1967D2;\n",
              "      height: 32px;\n",
              "      padding: 0 0 0 0;\n",
              "      width: 32px;\n",
              "    }\n",
              "\n",
              "    .colab-df-convert:hover {\n",
              "      background-color: #E2EBFA;\n",
              "      box-shadow: 0px 1px 2px rgba(60, 64, 67, 0.3), 0px 1px 3px 1px rgba(60, 64, 67, 0.15);\n",
              "      fill: #174EA6;\n",
              "    }\n",
              "\n",
              "    [theme=dark] .colab-df-convert {\n",
              "      background-color: #3B4455;\n",
              "      fill: #D2E3FC;\n",
              "    }\n",
              "\n",
              "    [theme=dark] .colab-df-convert:hover {\n",
              "      background-color: #434B5C;\n",
              "      box-shadow: 0px 1px 3px 1px rgba(0, 0, 0, 0.15);\n",
              "      filter: drop-shadow(0px 1px 2px rgba(0, 0, 0, 0.3));\n",
              "      fill: #FFFFFF;\n",
              "    }\n",
              "  </style>\n",
              "\n",
              "      <script>\n",
              "        const buttonEl =\n",
              "          document.querySelector('#df-eef94485-2415-4b18-a029-fe2ff8a5b5a4 button.colab-df-convert');\n",
              "        buttonEl.style.display =\n",
              "          google.colab.kernel.accessAllowed ? 'block' : 'none';\n",
              "\n",
              "        async function convertToInteractive(key) {\n",
              "          const element = document.querySelector('#df-eef94485-2415-4b18-a029-fe2ff8a5b5a4');\n",
              "          const dataTable =\n",
              "            await google.colab.kernel.invokeFunction('convertToInteractive',\n",
              "                                                     [key], {});\n",
              "          if (!dataTable) return;\n",
              "\n",
              "          const docLinkHtml = 'Like what you see? Visit the ' +\n",
              "            '<a target=\"_blank\" href=https://colab.research.google.com/notebooks/data_table.ipynb>data table notebook</a>'\n",
              "            + ' to learn more about interactive tables.';\n",
              "          element.innerHTML = '';\n",
              "          dataTable['output_type'] = 'display_data';\n",
              "          await google.colab.output.renderOutput(dataTable, element);\n",
              "          const docLink = document.createElement('div');\n",
              "          docLink.innerHTML = docLinkHtml;\n",
              "          element.appendChild(docLink);\n",
              "        }\n",
              "      </script>\n",
              "    </div>\n",
              "  </div>\n",
              "  "
            ]
          },
          "metadata": {},
          "execution_count": 93
        }
      ]
    },
    {
      "cell_type": "code",
      "source": [
        "del(train_labels)\n",
        "del(test_labels)"
      ],
      "metadata": {
        "id": "UQierV6ARKb7"
      },
      "execution_count": null,
      "outputs": []
    },
    {
      "cell_type": "markdown",
      "metadata": {
        "id": "Hjx6EDs9v05N"
      },
      "source": [
        "### 모델 설정"
      ]
    },
    {
      "cell_type": "code",
      "execution_count": null,
      "metadata": {
        "id": "lPADHg3Wv05O",
        "outputId": "30d1b9db-0511-4a94-febd-e8d74a5f4c0c",
        "colab": {
          "base_uri": "https://localhost:8080/"
        }
      },
      "outputs": [
        {
          "output_type": "stream",
          "name": "stdout",
          "text": [
            "Model: \"sequential_4\"\n",
            "_________________________________________________________________\n",
            " Layer (type)                Output Shape              Param #   \n",
            "=================================================================\n",
            " conv2d_16 (Conv2D)          (None, 296, 46, 32)       320       \n",
            "                                                                 \n",
            " max_pooling2d_12 (MaxPoolin  (None, 148, 23, 32)      0         \n",
            " g2D)                                                            \n",
            "                                                                 \n",
            " conv2d_17 (Conv2D)          (None, 146, 21, 64)       18496     \n",
            "                                                                 \n",
            " max_pooling2d_13 (MaxPoolin  (None, 73, 10, 64)       0         \n",
            " g2D)                                                            \n",
            "                                                                 \n",
            " conv2d_18 (Conv2D)          (None, 71, 8, 128)        73856     \n",
            "                                                                 \n",
            " max_pooling2d_14 (MaxPoolin  (None, 35, 4, 128)       0         \n",
            " g2D)                                                            \n",
            "                                                                 \n",
            " conv2d_19 (Conv2D)          (None, 33, 2, 256)        295168    \n",
            "                                                                 \n",
            " flatten_4 (Flatten)         (None, 16896)             0         \n",
            "                                                                 \n",
            " dense_8 (Dense)             (None, 256)               4325632   \n",
            "                                                                 \n",
            " dense_9 (Dense)             (None, 5000)              1285000   \n",
            "                                                                 \n",
            "=================================================================\n",
            "Total params: 5,998,472\n",
            "Trainable params: 5,998,472\n",
            "Non-trainable params: 0\n",
            "_________________________________________________________________\n"
          ]
        }
      ],
      "source": [
        "model=models.Sequential()\n",
        "\n",
        "#인코딩\n",
        "model.add(layers.Conv2D(32, (3, 3), activation='relu', input_shape=(298, 48, 1)))\n",
        "model.add(layers.MaxPooling2D(2, 2))\n",
        "model.add(layers.Conv2D(64, (3, 3), activation='relu'))\n",
        "model.add(layers.MaxPooling2D(2, 2))\n",
        "model.add(layers.Conv2D(128, (3, 3), activation='relu'))\n",
        "model.add(layers.MaxPooling2D(2, 2))\n",
        "model.add(layers.Conv2D(256, (3, 3), activation='relu'))\n",
        "#디코딩\n",
        "model.add(layers.Flatten())\n",
        "model.add(layers.Dense(256, activation='relu'))\n",
        "model.add(layers.Dense(5000, activation='softmax'))\n",
        "\n",
        "#모델 확인\n",
        "model.summary()"
      ]
    },
    {
      "cell_type": "markdown",
      "metadata": {
        "id": "hHrd-grVya93"
      },
      "source": [
        "### 학습 진행"
      ]
    },
    {
      "cell_type": "code",
      "execution_count": null,
      "metadata": {
        "id": "ZN84tnbLv05O"
      },
      "outputs": [],
      "source": [
        "checkpoint_path = '/content/drive/MyDrive/mhw/Models/cp--{epoch:04d}.ckpt'\n",
        "checkpoint_dir = os.path.dirname(checkpoint_path)\n",
        "\n",
        "cp_callback = tf.keras.callbacks.ModelCheckpoint(checkpoint_path,\n",
        "                                                 save_weights_only=True,\n",
        "                                                 verbose=0,\n",
        "                                                 save_freq='epoch',\n",
        "                                                 )  # 5번째 에포크마다 가중치를 저장"
      ]
    },
    {
      "cell_type": "code",
      "execution_count": null,
      "metadata": {
        "colab": {
          "base_uri": "https://localhost:8080/"
        },
        "id": "4pV2z_adPCWv",
        "outputId": "6f6802d1-ac52-4e22-f9bb-50b74ad76e88"
      },
      "outputs": [
        {
          "output_type": "stream",
          "name": "stdout",
          "text": [
            "Epoch 1/50\n",
            "782/782 [==============================] - 61s 78ms/step - loss: 4.8426 - accuracy: 0.0154\n",
            "Epoch 2/50\n",
            "782/782 [==============================] - 60s 77ms/step - loss: 4.8168 - accuracy: 0.0168\n",
            "Epoch 3/50\n",
            "782/782 [==============================] - 63s 80ms/step - loss: 4.8131 - accuracy: 0.0171\n",
            "Epoch 4/50\n",
            "782/782 [==============================] - 61s 78ms/step - loss: 4.8079 - accuracy: 0.0179\n",
            "Epoch 5/50\n",
            "782/782 [==============================] - 61s 78ms/step - loss: 4.7977 - accuracy: 0.0181\n",
            "Epoch 6/50\n",
            "782/782 [==============================] - 61s 79ms/step - loss: 4.7744 - accuracy: 0.0207\n",
            "Epoch 7/50\n",
            "782/782 [==============================] - 61s 77ms/step - loss: 4.7208 - accuracy: 0.0252\n",
            "Epoch 8/50\n",
            "782/782 [==============================] - 61s 77ms/step - loss: 4.6083 - accuracy: 0.0358\n",
            "Epoch 9/50\n",
            "782/782 [==============================] - 61s 78ms/step - loss: 4.4083 - accuracy: 0.0612\n",
            "Epoch 10/50\n",
            "782/782 [==============================] - 62s 80ms/step - loss: 4.1122 - accuracy: 0.1028\n",
            "Epoch 11/50\n",
            "782/782 [==============================] - 61s 78ms/step - loss: 3.7483 - accuracy: 0.1608\n",
            "Epoch 12/50\n",
            "782/782 [==============================] - 61s 78ms/step - loss: 3.3492 - accuracy: 0.2309\n",
            "Epoch 13/50\n",
            "782/782 [==============================] - 60s 77ms/step - loss: 2.9291 - accuracy: 0.3095\n",
            "Epoch 14/50\n",
            "782/782 [==============================] - 63s 81ms/step - loss: 2.5244 - accuracy: 0.3888\n",
            "Epoch 15/50\n",
            "782/782 [==============================] - 60s 77ms/step - loss: 2.1253 - accuracy: 0.4715\n",
            "Epoch 16/50\n",
            "782/782 [==============================] - 61s 77ms/step - loss: 1.7632 - accuracy: 0.5474\n",
            "Epoch 17/50\n",
            "782/782 [==============================] - 61s 79ms/step - loss: 1.4345 - accuracy: 0.6209\n",
            "Epoch 18/50\n",
            "782/782 [==============================] - 66s 84ms/step - loss: 1.1650 - accuracy: 0.6828\n",
            "Epoch 19/50\n",
            "782/782 [==============================] - 61s 77ms/step - loss: 0.9439 - accuracy: 0.7321\n",
            "Epoch 20/50\n",
            "782/782 [==============================] - 61s 78ms/step - loss: 0.7817 - accuracy: 0.7715\n",
            "Epoch 21/50\n",
            "782/782 [==============================] - 62s 79ms/step - loss: 0.6474 - accuracy: 0.8060\n",
            "Epoch 22/50\n",
            "782/782 [==============================] - 62s 79ms/step - loss: 0.5639 - accuracy: 0.8265\n",
            "Epoch 23/50\n",
            "782/782 [==============================] - 62s 79ms/step - loss: 0.5068 - accuracy: 0.8421\n",
            "Epoch 24/50\n",
            "782/782 [==============================] - 61s 78ms/step - loss: 0.4451 - accuracy: 0.8589\n",
            "Epoch 25/50\n",
            "782/782 [==============================] - 62s 79ms/step - loss: 0.4153 - accuracy: 0.8687\n",
            "Epoch 26/50\n",
            "782/782 [==============================] - 61s 78ms/step - loss: 0.3856 - accuracy: 0.8787\n",
            "Epoch 27/50\n",
            "782/782 [==============================] - 61s 78ms/step - loss: 0.3670 - accuracy: 0.8837\n",
            "Epoch 28/50\n",
            "782/782 [==============================] - 61s 79ms/step - loss: 0.3474 - accuracy: 0.8902\n",
            "Epoch 29/50\n",
            "782/782 [==============================] - 63s 80ms/step - loss: 0.3295 - accuracy: 0.8956\n",
            "Epoch 30/50\n",
            "782/782 [==============================] - 60s 77ms/step - loss: 0.3260 - accuracy: 0.8973\n",
            "Epoch 31/50\n",
            "782/782 [==============================] - 61s 78ms/step - loss: 0.2984 - accuracy: 0.9057\n",
            "Epoch 32/50\n",
            "782/782 [==============================] - 63s 80ms/step - loss: 0.2863 - accuracy: 0.9104\n",
            "Epoch 33/50\n",
            "782/782 [==============================] - 61s 77ms/step - loss: 0.2988 - accuracy: 0.9056\n",
            "Epoch 34/50\n",
            "782/782 [==============================] - 61s 78ms/step - loss: 0.2771 - accuracy: 0.9130\n",
            "Epoch 35/50\n",
            "782/782 [==============================] - 61s 78ms/step - loss: 0.2691 - accuracy: 0.9152\n",
            "Epoch 36/50\n",
            "782/782 [==============================] - 57s 73ms/step - loss: 0.2665 - accuracy: 0.9168\n",
            "Epoch 37/50\n",
            "782/782 [==============================] - 61s 78ms/step - loss: 0.2597 - accuracy: 0.9180\n",
            "Epoch 38/50\n",
            "782/782 [==============================] - 61s 78ms/step - loss: 0.2601 - accuracy: 0.9181\n",
            "Epoch 39/50\n",
            "782/782 [==============================] - 62s 79ms/step - loss: 0.2485 - accuracy: 0.9221\n",
            "Epoch 40/50\n",
            "782/782 [==============================] - 62s 79ms/step - loss: 0.2493 - accuracy: 0.9229\n",
            "Epoch 41/50\n",
            "782/782 [==============================] - 60s 77ms/step - loss: 0.2328 - accuracy: 0.9259\n",
            "Epoch 42/50\n",
            "782/782 [==============================] - 61s 78ms/step - loss: 0.2488 - accuracy: 0.9227\n",
            "Epoch 43/50\n",
            "782/782 [==============================] - 60s 77ms/step - loss: 0.2613 - accuracy: 0.9186\n",
            "Epoch 44/50\n",
            "782/782 [==============================] - 57s 73ms/step - loss: 0.2215 - accuracy: 0.9314\n",
            "Epoch 45/50\n",
            "782/782 [==============================] - 55s 71ms/step - loss: 0.2251 - accuracy: 0.9295\n",
            "Epoch 46/50\n",
            "782/782 [==============================] - 56s 71ms/step - loss: 0.2389 - accuracy: 0.9274\n",
            "Epoch 47/50\n",
            "782/782 [==============================] - 56s 72ms/step - loss: 0.2656 - accuracy: 0.9206\n",
            "Epoch 48/50\n",
            "782/782 [==============================] - 58s 74ms/step - loss: 0.2344 - accuracy: 0.9287\n",
            "Epoch 49/50\n",
            "782/782 [==============================] - 61s 77ms/step - loss: 0.2770 - accuracy: 0.9172\n",
            "Epoch 50/50\n",
            "782/782 [==============================] - 60s 77ms/step - loss: 0.2520 - accuracy: 0.9251\n"
          ]
        },
        {
          "output_type": "execute_result",
          "data": {
            "text/plain": [
              "<keras.callbacks.History at 0x7fd6d4e8f700>"
            ]
          },
          "metadata": {},
          "execution_count": 70
        }
      ],
      "source": [
        "#학습과정 설정\n",
        "model.compile(optimizer='adam',\n",
        "              loss='categorical_crossentropy',\n",
        "              metrics=['accuracy'])\n",
        "\n",
        "# 학습 및 평가\n",
        "early_stopping = EarlyStopping(monitor = 'loss', min_delta = 0, patience = 10, mode = 'auto')\n",
        "model.fit(train_generator, epochs=50, callbacks = [early_stopping])"
      ]
    },
    {
      "cell_type": "code",
      "source": [
        "img=cv2.imread('/content/images/img1.png', cv2.IMREAD_GRAYSCALE)\n",
        "\n",
        "img=img/255\n",
        "testdata=img.reshape(1,298,48)\n",
        "testlabel=pd.DataFrame({'labels':[]})\n",
        "a=[0]\n",
        "testlabel['labels']=a\n"
      ],
      "metadata": {
        "id": "5KyAdgiEgCuz"
      },
      "execution_count": null,
      "outputs": []
    },
    {
      "cell_type": "code",
      "source": [
        "index_list=[]\n",
        "for i in range(1,299):\n",
        "    for j in range(1,49):\n",
        "        ssss=('%d*%d' %(i,j))\n",
        "        index_list.append(ssss)\n",
        "len(index_list)"
      ],
      "metadata": {
        "colab": {
          "base_uri": "https://localhost:8080/"
        },
        "id": "SP0BbR1kogvB",
        "outputId": "f4371c14-fe9d-4826-c39f-b30b036befb3"
      },
      "execution_count": null,
      "outputs": [
        {
          "output_type": "execute_result",
          "data": {
            "text/plain": [
              "14304"
            ]
          },
          "metadata": {},
          "execution_count": 134
        }
      ]
    },
    {
      "cell_type": "code",
      "source": [
        "testdata.columns=index_list\n",
        "testdata"
      ],
      "metadata": {
        "colab": {
          "base_uri": "https://localhost:8080/",
          "height": 110
        },
        "id": "pMDSkt8lpNVZ",
        "outputId": "02410161-864d-4032-b185-fa7f1c8d1412"
      },
      "execution_count": null,
      "outputs": [
        {
          "output_type": "execute_result",
          "data": {
            "text/plain": [
              "   1*1  1*2  1*3  1*4  1*5  1*6  1*7  1*8  1*9  1*10  ...  298*39  298*40  \\\n",
              "0  0.0  0.0  0.0  0.0  0.0  0.0  0.0  0.0  0.0   0.0  ...     0.0     0.0   \n",
              "\n",
              "   298*41  298*42  298*43  298*44  298*45  298*46  298*47  298*48  \n",
              "0     0.0     0.0     0.0     0.0     0.0     0.0     0.0     0.0  \n",
              "\n",
              "[1 rows x 14304 columns]"
            ],
            "text/html": [
              "\n",
              "  <div id=\"df-219ec47d-7087-46de-ac3a-fc7d376c5387\">\n",
              "    <div class=\"colab-df-container\">\n",
              "      <div>\n",
              "<style scoped>\n",
              "    .dataframe tbody tr th:only-of-type {\n",
              "        vertical-align: middle;\n",
              "    }\n",
              "\n",
              "    .dataframe tbody tr th {\n",
              "        vertical-align: top;\n",
              "    }\n",
              "\n",
              "    .dataframe thead th {\n",
              "        text-align: right;\n",
              "    }\n",
              "</style>\n",
              "<table border=\"1\" class=\"dataframe\">\n",
              "  <thead>\n",
              "    <tr style=\"text-align: right;\">\n",
              "      <th></th>\n",
              "      <th>1*1</th>\n",
              "      <th>1*2</th>\n",
              "      <th>1*3</th>\n",
              "      <th>1*4</th>\n",
              "      <th>1*5</th>\n",
              "      <th>1*6</th>\n",
              "      <th>1*7</th>\n",
              "      <th>1*8</th>\n",
              "      <th>1*9</th>\n",
              "      <th>1*10</th>\n",
              "      <th>...</th>\n",
              "      <th>298*39</th>\n",
              "      <th>298*40</th>\n",
              "      <th>298*41</th>\n",
              "      <th>298*42</th>\n",
              "      <th>298*43</th>\n",
              "      <th>298*44</th>\n",
              "      <th>298*45</th>\n",
              "      <th>298*46</th>\n",
              "      <th>298*47</th>\n",
              "      <th>298*48</th>\n",
              "    </tr>\n",
              "  </thead>\n",
              "  <tbody>\n",
              "    <tr>\n",
              "      <th>0</th>\n",
              "      <td>0.0</td>\n",
              "      <td>0.0</td>\n",
              "      <td>0.0</td>\n",
              "      <td>0.0</td>\n",
              "      <td>0.0</td>\n",
              "      <td>0.0</td>\n",
              "      <td>0.0</td>\n",
              "      <td>0.0</td>\n",
              "      <td>0.0</td>\n",
              "      <td>0.0</td>\n",
              "      <td>...</td>\n",
              "      <td>0.0</td>\n",
              "      <td>0.0</td>\n",
              "      <td>0.0</td>\n",
              "      <td>0.0</td>\n",
              "      <td>0.0</td>\n",
              "      <td>0.0</td>\n",
              "      <td>0.0</td>\n",
              "      <td>0.0</td>\n",
              "      <td>0.0</td>\n",
              "      <td>0.0</td>\n",
              "    </tr>\n",
              "  </tbody>\n",
              "</table>\n",
              "<p>1 rows × 14304 columns</p>\n",
              "</div>\n",
              "      <button class=\"colab-df-convert\" onclick=\"convertToInteractive('df-219ec47d-7087-46de-ac3a-fc7d376c5387')\"\n",
              "              title=\"Convert this dataframe to an interactive table.\"\n",
              "              style=\"display:none;\">\n",
              "        \n",
              "  <svg xmlns=\"http://www.w3.org/2000/svg\" height=\"24px\"viewBox=\"0 0 24 24\"\n",
              "       width=\"24px\">\n",
              "    <path d=\"M0 0h24v24H0V0z\" fill=\"none\"/>\n",
              "    <path d=\"M18.56 5.44l.94 2.06.94-2.06 2.06-.94-2.06-.94-.94-2.06-.94 2.06-2.06.94zm-11 1L8.5 8.5l.94-2.06 2.06-.94-2.06-.94L8.5 2.5l-.94 2.06-2.06.94zm10 10l.94 2.06.94-2.06 2.06-.94-2.06-.94-.94-2.06-.94 2.06-2.06.94z\"/><path d=\"M17.41 7.96l-1.37-1.37c-.4-.4-.92-.59-1.43-.59-.52 0-1.04.2-1.43.59L10.3 9.45l-7.72 7.72c-.78.78-.78 2.05 0 2.83L4 21.41c.39.39.9.59 1.41.59.51 0 1.02-.2 1.41-.59l7.78-7.78 2.81-2.81c.8-.78.8-2.07 0-2.86zM5.41 20L4 18.59l7.72-7.72 1.47 1.35L5.41 20z\"/>\n",
              "  </svg>\n",
              "      </button>\n",
              "      \n",
              "  <style>\n",
              "    .colab-df-container {\n",
              "      display:flex;\n",
              "      flex-wrap:wrap;\n",
              "      gap: 12px;\n",
              "    }\n",
              "\n",
              "    .colab-df-convert {\n",
              "      background-color: #E8F0FE;\n",
              "      border: none;\n",
              "      border-radius: 50%;\n",
              "      cursor: pointer;\n",
              "      display: none;\n",
              "      fill: #1967D2;\n",
              "      height: 32px;\n",
              "      padding: 0 0 0 0;\n",
              "      width: 32px;\n",
              "    }\n",
              "\n",
              "    .colab-df-convert:hover {\n",
              "      background-color: #E2EBFA;\n",
              "      box-shadow: 0px 1px 2px rgba(60, 64, 67, 0.3), 0px 1px 3px 1px rgba(60, 64, 67, 0.15);\n",
              "      fill: #174EA6;\n",
              "    }\n",
              "\n",
              "    [theme=dark] .colab-df-convert {\n",
              "      background-color: #3B4455;\n",
              "      fill: #D2E3FC;\n",
              "    }\n",
              "\n",
              "    [theme=dark] .colab-df-convert:hover {\n",
              "      background-color: #434B5C;\n",
              "      box-shadow: 0px 1px 3px 1px rgba(0, 0, 0, 0.15);\n",
              "      filter: drop-shadow(0px 1px 2px rgba(0, 0, 0, 0.3));\n",
              "      fill: #FFFFFF;\n",
              "    }\n",
              "  </style>\n",
              "\n",
              "      <script>\n",
              "        const buttonEl =\n",
              "          document.querySelector('#df-219ec47d-7087-46de-ac3a-fc7d376c5387 button.colab-df-convert');\n",
              "        buttonEl.style.display =\n",
              "          google.colab.kernel.accessAllowed ? 'block' : 'none';\n",
              "\n",
              "        async function convertToInteractive(key) {\n",
              "          const element = document.querySelector('#df-219ec47d-7087-46de-ac3a-fc7d376c5387');\n",
              "          const dataTable =\n",
              "            await google.colab.kernel.invokeFunction('convertToInteractive',\n",
              "                                                     [key], {});\n",
              "          if (!dataTable) return;\n",
              "\n",
              "          const docLinkHtml = 'Like what you see? Visit the ' +\n",
              "            '<a target=\"_blank\" href=https://colab.research.google.com/notebooks/data_table.ipynb>data table notebook</a>'\n",
              "            + ' to learn more about interactive tables.';\n",
              "          element.innerHTML = '';\n",
              "          dataTable['output_type'] = 'display_data';\n",
              "          await google.colab.output.renderOutput(dataTable, element);\n",
              "          const docLink = document.createElement('div');\n",
              "          docLink.innerHTML = docLinkHtml;\n",
              "          element.appendChild(docLink);\n",
              "        }\n",
              "      </script>\n",
              "    </div>\n",
              "  </div>\n",
              "  "
            ]
          },
          "metadata": {},
          "execution_count": 135
        }
      ]
    },
    {
      "cell_type": "code",
      "source": [
        "testdata="
      ],
      "metadata": {
        "colab": {
          "base_uri": "https://localhost:8080/"
        },
        "id": "7H2B6zlQs7lx",
        "outputId": "467863b5-3573-44bb-dbd0-5940be3dae4d"
      },
      "execution_count": null,
      "outputs": [
        {
          "output_type": "execute_result",
          "data": {
            "text/plain": [
              "40507    img40508.png\n",
              "72707    img72708.png\n",
              "90912    img90913.png\n",
              "28532    img28533.png\n",
              "13006    img13007.png\n",
              "             ...     \n",
              "6265      img6266.png\n",
              "54886    img54887.png\n",
              "76820    img76821.png\n",
              "860        img861.png\n",
              "15795    img15796.png\n",
              "Name: image, Length: 60000, dtype: object"
            ]
          },
          "metadata": {},
          "execution_count": 136
        }
      ]
    },
    {
      "cell_type": "code",
      "source": [
        "y_train"
      ],
      "metadata": {
        "colab": {
          "base_uri": "https://localhost:8080/"
        },
        "id": "NpN0daNHtLBS",
        "outputId": "6467f0c0-3e0b-4f60-c8e2-d607cfb548d5"
      },
      "execution_count": null,
      "outputs": [
        {
          "output_type": "execute_result",
          "data": {
            "text/plain": [
              "40507           ᠱᠠᠪᠵᠤ\n",
              "72707        ᠮᠣᠨᠴᠣᠵᠠᠨ\n",
              "90912          ᠮᠧᠪᠧᠯᠢ\n",
              "28532       ᠰᠲ᠋ᠠᠲ᠋ᠦ᠋ᠰ\n",
              "13006      ᠬᠠᠶᠢᠨᠠᠨᠳᠤᠤ\n",
              "             ...     \n",
              "6265         ᠭᠡᠯᠮᠡᠭᠳᠡ\n",
              "54886    ᠺᠣᠨᠳᠧᠨᠰᠠᠲ᠋ᠣᠷ\n",
              "76820        ᠠᠮᠤᠵᠢᠭᠤᠯ\n",
              "860       ᠪᠥᠭᠡᠭᠡᠨᠡᠷᠡᠯ\n",
              "15795     ᠳᠤᠤᠭᠠᠷᠮᠠᠬᠠᠢ\n",
              "Name: labels, Length: 60000, dtype: object"
            ]
          },
          "metadata": {},
          "execution_count": 138
        }
      ]
    },
    {
      "cell_type": "code",
      "source": [
        "model.evaluate(testdata, testlabel)"
      ],
      "metadata": {
        "colab": {
          "base_uri": "https://localhost:8080/",
          "height": 382
        },
        "id": "ZMgvR88Dlf1K",
        "outputId": "ad727c5e-f092-4920-d1da-c80090d97fdc"
      },
      "execution_count": null,
      "outputs": [
        {
          "output_type": "error",
          "ename": "ValueError",
          "evalue": "ignored",
          "traceback": [
            "\u001b[0;31m---------------------------------------------------------------------------\u001b[0m",
            "\u001b[0;31mValueError\u001b[0m                                Traceback (most recent call last)",
            "\u001b[0;32m<ipython-input-104-068409b15b85>\u001b[0m in \u001b[0;36m<module>\u001b[0;34m\u001b[0m\n\u001b[0;32m----> 1\u001b[0;31m \u001b[0mmodel\u001b[0m\u001b[0;34m.\u001b[0m\u001b[0mevaluate\u001b[0m\u001b[0;34m(\u001b[0m\u001b[0mtestdata\u001b[0m\u001b[0;34m,\u001b[0m \u001b[0mtestlabel\u001b[0m\u001b[0;34m)\u001b[0m\u001b[0;34m\u001b[0m\u001b[0;34m\u001b[0m\u001b[0m\n\u001b[0m",
            "\u001b[0;32m/usr/local/lib/python3.8/dist-packages/keras/utils/traceback_utils.py\u001b[0m in \u001b[0;36merror_handler\u001b[0;34m(*args, **kwargs)\u001b[0m\n\u001b[1;32m     65\u001b[0m     \u001b[0;32mexcept\u001b[0m \u001b[0mException\u001b[0m \u001b[0;32mas\u001b[0m \u001b[0me\u001b[0m\u001b[0;34m:\u001b[0m  \u001b[0;31m# pylint: disable=broad-except\u001b[0m\u001b[0;34m\u001b[0m\u001b[0;34m\u001b[0m\u001b[0m\n\u001b[1;32m     66\u001b[0m       \u001b[0mfiltered_tb\u001b[0m \u001b[0;34m=\u001b[0m \u001b[0m_process_traceback_frames\u001b[0m\u001b[0;34m(\u001b[0m\u001b[0me\u001b[0m\u001b[0;34m.\u001b[0m\u001b[0m__traceback__\u001b[0m\u001b[0;34m)\u001b[0m\u001b[0;34m\u001b[0m\u001b[0;34m\u001b[0m\u001b[0m\n\u001b[0;32m---> 67\u001b[0;31m       \u001b[0;32mraise\u001b[0m \u001b[0me\u001b[0m\u001b[0;34m.\u001b[0m\u001b[0mwith_traceback\u001b[0m\u001b[0;34m(\u001b[0m\u001b[0mfiltered_tb\u001b[0m\u001b[0;34m)\u001b[0m \u001b[0;32mfrom\u001b[0m \u001b[0;32mNone\u001b[0m\u001b[0;34m\u001b[0m\u001b[0;34m\u001b[0m\u001b[0m\n\u001b[0m\u001b[1;32m     68\u001b[0m     \u001b[0;32mfinally\u001b[0m\u001b[0;34m:\u001b[0m\u001b[0;34m\u001b[0m\u001b[0;34m\u001b[0m\u001b[0m\n\u001b[1;32m     69\u001b[0m       \u001b[0;32mdel\u001b[0m \u001b[0mfiltered_tb\u001b[0m\u001b[0;34m\u001b[0m\u001b[0;34m\u001b[0m\u001b[0m\n",
            "\u001b[0;32m/usr/local/lib/python3.8/dist-packages/keras/engine/data_adapter.py\u001b[0m in \u001b[0;36m_check_data_cardinality\u001b[0;34m(data)\u001b[0m\n\u001b[1;32m   1653\u001b[0m                            for i in tf.nest.flatten(single_data)))\n\u001b[1;32m   1654\u001b[0m     \u001b[0mmsg\u001b[0m \u001b[0;34m+=\u001b[0m \u001b[0;34m\"Make sure all arrays contain the same number of samples.\"\u001b[0m\u001b[0;34m\u001b[0m\u001b[0;34m\u001b[0m\u001b[0m\n\u001b[0;32m-> 1655\u001b[0;31m     \u001b[0;32mraise\u001b[0m \u001b[0mValueError\u001b[0m\u001b[0;34m(\u001b[0m\u001b[0mmsg\u001b[0m\u001b[0;34m)\u001b[0m\u001b[0;34m\u001b[0m\u001b[0;34m\u001b[0m\u001b[0m\n\u001b[0m\u001b[1;32m   1656\u001b[0m \u001b[0;34m\u001b[0m\u001b[0m\n\u001b[1;32m   1657\u001b[0m \u001b[0;34m\u001b[0m\u001b[0m\n",
            "\u001b[0;31mValueError\u001b[0m: Data cardinality is ambiguous:\n  x sizes: 298\n  y sizes: 1\nMake sure all arrays contain the same number of samples."
          ]
        }
      ]
    },
    {
      "cell_type": "code",
      "source": [
        "test_loss, test_acc = model.evaluate(test_generator, verbose=2)\n",
        "\n",
        "print('\\n테스트 정확도:', test_acc)\n",
        "print('\\테스트 손실률:', test_loss)"
      ],
      "metadata": {
        "colab": {
          "base_uri": "https://localhost:8080/"
        },
        "id": "xzKCTcoVDoZ0",
        "outputId": "8a3d8006-143e-4cd4-9389-49ed6152463c"
      },
      "execution_count": null,
      "outputs": [
        {
          "output_type": "stream",
          "name": "stdout",
          "text": [
            "313/313 - 17s - loss: 143.9127 - accuracy: 0.0016 - 17s/epoch - 56ms/step\n",
            "\n",
            "테스트 정확도: 0.0016473642317578197\n",
            "\\테스트 손실률: 143.91268920898438\n"
          ]
        }
      ]
    },
    {
      "cell_type": "code",
      "source": [
        "history = model.fit(train_generator, epochs=10, callbacks=[cp_callback])"
      ],
      "metadata": {
        "colab": {
          "base_uri": "https://localhost:8080/"
        },
        "id": "ISH4FJADLXfU",
        "outputId": "0a30171f-255c-4e35-9790-7aa40f0a8867"
      },
      "execution_count": null,
      "outputs": [
        {
          "output_type": "stream",
          "name": "stdout",
          "text": [
            "Epoch 1/10\n",
            "469/469 [==============================] - 34s 72ms/step - loss: 0.1512 - accuracy: 0.9576\n",
            "Epoch 2/10\n",
            "469/469 [==============================] - 34s 73ms/step - loss: 0.1310 - accuracy: 0.9629\n",
            "Epoch 3/10\n",
            "469/469 [==============================] - 39s 84ms/step - loss: 0.0963 - accuracy: 0.9718\n",
            "Epoch 4/10\n",
            "469/469 [==============================] - 38s 80ms/step - loss: 0.1087 - accuracy: 0.9689\n",
            "Epoch 5/10\n",
            "469/469 [==============================] - 42s 90ms/step - loss: 0.2068 - accuracy: 0.9491\n",
            "Epoch 6/10\n",
            "469/469 [==============================] - 36s 76ms/step - loss: 0.1419 - accuracy: 0.9621\n",
            "Epoch 7/10\n",
            "469/469 [==============================] - 40s 85ms/step - loss: 0.1313 - accuracy: 0.9668\n",
            "Epoch 8/10\n",
            "469/469 [==============================] - 39s 83ms/step - loss: 0.1666 - accuracy: 0.9583\n",
            "Epoch 9/10\n",
            "469/469 [==============================] - 34s 73ms/step - loss: 0.1166 - accuracy: 0.9693\n",
            "Epoch 10/10\n",
            "469/469 [==============================] - 40s 85ms/step - loss: 0.2095 - accuracy: 0.9546\n"
          ]
        }
      ]
    },
    {
      "cell_type": "code",
      "execution_count": null,
      "metadata": {
        "id": "7LaX8FDqQ5Rs"
      },
      "outputs": [],
      "source": [
        "# 결과 저장\n",
        "model.save('/content/drive/MyDrive/mhw/Models/mhw_model.h5')"
      ]
    },
    {
      "cell_type": "code",
      "execution_count": null,
      "metadata": {
        "id": "FVzkKqnJQ5yk"
      },
      "outputs": [],
      "source": [
        "loaded_model = load_model('/content/drive/MyDrive/mhw/Models/t_model.h5')"
      ]
    },
    {
      "cell_type": "code",
      "execution_count": null,
      "metadata": {
        "colab": {
          "base_uri": "https://localhost:8080/"
        },
        "id": "q5ZktEWNQ8fg",
        "outputId": "8ab96412-56cf-4573-f03d-ac54649fc44f"
      },
      "outputs": [
        {
          "output_type": "execute_result",
          "data": {
            "text/plain": [
              "dict_keys(['loss', 'accuracy'])"
            ]
          },
          "metadata": {},
          "execution_count": 49
        }
      ],
      "source": [
        "history_dict = history.history\n",
        "history_dict.keys()"
      ]
    },
    {
      "cell_type": "code",
      "execution_count": null,
      "metadata": {
        "id": "RC7z4w-tQ-vd",
        "outputId": "1c6331f8-d615-4398-8b2f-f822a1eb0327",
        "colab": {
          "base_uri": "https://localhost:8080/",
          "height": 248
        }
      },
      "outputs": [
        {
          "output_type": "error",
          "ename": "KeyError",
          "evalue": "ignored",
          "traceback": [
            "\u001b[0;31m---------------------------------------------------------------------------\u001b[0m",
            "\u001b[0;31mKeyError\u001b[0m                                  Traceback (most recent call last)",
            "\u001b[0;32m<ipython-input-54-3598d20b7dfd>\u001b[0m in \u001b[0;36m<module>\u001b[0;34m\u001b[0m\n\u001b[1;32m      1\u001b[0m \u001b[0macc\u001b[0m \u001b[0;34m=\u001b[0m \u001b[0mhistory_dict\u001b[0m\u001b[0;34m[\u001b[0m\u001b[0;34m'accuracy'\u001b[0m\u001b[0;34m]\u001b[0m\u001b[0;34m\u001b[0m\u001b[0;34m\u001b[0m\u001b[0m\n\u001b[0;32m----> 2\u001b[0;31m \u001b[0mval_acc\u001b[0m \u001b[0;34m=\u001b[0m \u001b[0mhistory_dict\u001b[0m\u001b[0;34m[\u001b[0m\u001b[0;34m'val_accuracy'\u001b[0m\u001b[0;34m]\u001b[0m\u001b[0;34m\u001b[0m\u001b[0;34m\u001b[0m\u001b[0m\n\u001b[0m\u001b[1;32m      3\u001b[0m \u001b[0mloss\u001b[0m \u001b[0;34m=\u001b[0m \u001b[0mhistory_dict\u001b[0m\u001b[0;34m[\u001b[0m\u001b[0;34m'loss'\u001b[0m\u001b[0;34m]\u001b[0m\u001b[0;34m\u001b[0m\u001b[0;34m\u001b[0m\u001b[0m\n\u001b[1;32m      4\u001b[0m \u001b[0mval_loss\u001b[0m \u001b[0;34m=\u001b[0m \u001b[0mhistory_dict\u001b[0m\u001b[0;34m[\u001b[0m\u001b[0;34m'val_loss'\u001b[0m\u001b[0;34m]\u001b[0m\u001b[0;34m\u001b[0m\u001b[0;34m\u001b[0m\u001b[0m\n\u001b[1;32m      5\u001b[0m \u001b[0;34m\u001b[0m\u001b[0m\n",
            "\u001b[0;31mKeyError\u001b[0m: 'val_accuracy'"
          ]
        }
      ],
      "source": [
        "acc = history_dict['accuracy']\n",
        "val_acc = history_dict['val_accuracy']\n",
        "loss = history_dict['loss']\n",
        "val_loss = history_dict['val_loss']\n",
        "\n",
        "epochs = range(1, len(acc) + 1)\n",
        "\n",
        "# bo: 파란색 점\n",
        "plt.plot(epochs, loss, 'bo', label='Training loss')\n",
        "# b : 파란 실선\n",
        "plt.plot(epochs, val_loss, 'b', label='Validation loss')\n",
        "plt.title('Training and validation loss')\n",
        "plt.xlabel('Epochs')\n",
        "plt.ylabel('Loss')\n",
        "plt.legend()\n",
        "\n",
        "plt.show()"
      ]
    },
    {
      "cell_type": "code",
      "source": [],
      "metadata": {
        "id": "0HCrEtrvQZ-E"
      },
      "execution_count": null,
      "outputs": []
    }
  ],
  "metadata": {
    "colab": {
      "provenance": [],
      "include_colab_link": true
    },
    "gpuClass": "standard",
    "kernelspec": {
      "display_name": "Python 3.9.12 ('base')",
      "language": "python",
      "name": "python3"
    },
    "language_info": {
      "codemirror_mode": {
        "name": "ipython",
        "version": 3
      },
      "file_extension": ".py",
      "mimetype": "text/x-python",
      "name": "python",
      "nbconvert_exporter": "python",
      "pygments_lexer": "ipython3",
      "version": "3.9.12"
    },
    "orig_nbformat": 4,
    "vscode": {
      "interpreter": {
        "hash": "631af202ec7c40e141c49d63cac6c8cb664469fed6e4d5ddc6436b49edc60500"
      }
    }
  },
  "nbformat": 4,
  "nbformat_minor": 0
}